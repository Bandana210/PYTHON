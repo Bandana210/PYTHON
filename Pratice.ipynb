{
 "cells": [
  {
   "cell_type": "code",
   "execution_count": 1,
   "id": "36082dda-3674-4c84-8025-8d647bff07a3",
   "metadata": {},
   "outputs": [
    {
     "name": "stdout",
     "output_type": "stream",
     "text": [
      "WELCOME\n"
     ]
    }
   ],
   "source": [
    "a='welcome'.upper()\n",
    "print(a)"
   ]
  },
  {
   "cell_type": "code",
   "execution_count": 4,
   "id": "dc2f0471-e481-4ef5-96c7-fdb7f9c88334",
   "metadata": {},
   "outputs": [
    {
     "name": "stdout",
     "output_type": "stream",
     "text": [
      "my name is bandana and age is 20 \n",
      "my name is bandana and age is 20\n",
      "my name is bandana and age is 20\n"
     ]
    }
   ],
   "source": [
    "name='bandana'\n",
    "age=20\n",
    "print(\"my name is {} and age is {} \".format(name, age))\n",
    "print(f\"my name is {name} and age is {age}\")\n",
    "print(\"my name is %s and age is %s\" %(name ,age))"
   ]
  },
  {
   "cell_type": "code",
   "execution_count": 6,
   "id": "680807e8-4cb1-49d0-a64c-e0b19cde3971",
   "metadata": {},
   "outputs": [
    {
     "name": "stdout",
     "output_type": "stream",
     "text": [
      "        bandana jain \n",
      "bandana jain\n"
     ]
    }
   ],
   "source": [
    "name = \"        bandana jain \"\n",
    "print(name)\n",
    "print(name.strip())"
   ]
  },
  {
   "cell_type": "code",
   "execution_count": 8,
   "id": "f0eaa523-b809-47f6-a47c-2c8cfd793bda",
   "metadata": {},
   "outputs": [
    {
     "ename": "AttributeError",
     "evalue": "'builtin_function_or_method' object has no attribute 'replace'",
     "output_type": "error",
     "traceback": [
      "\u001b[1;31m---------------------------------------------------------------------------\u001b[0m",
      "\u001b[1;31mAttributeError\u001b[0m                            Traceback (most recent call last)",
      "Cell \u001b[1;32mIn[8], line 1\u001b[0m\n\u001b[1;32m----> 1\u001b[0m \u001b[38;5;28mprint\u001b[39m(name\u001b[38;5;241m.\u001b[39mstrip\u001b[38;5;241m.\u001b[39mreplace(\u001b[38;5;124m\"\u001b[39m\u001b[38;5;124mb\u001b[39m\u001b[38;5;124m\"\u001b[39m,\u001b[38;5;124m\"\u001b[39m\u001b[38;5;124mB\u001b[39m\u001b[38;5;124m\"\u001b[39m))\n",
      "\u001b[1;31mAttributeError\u001b[0m: 'builtin_function_or_method' object has no attribute 'replace'"
     ]
    }
   ],
   "source": [
    "print(name.replace(\"b\",\"B\"))"
   ]
  },
  {
   "cell_type": "code",
   "execution_count": 9,
   "id": "0138c2ad-a91d-4861-b39c-edbb9d4e556e",
   "metadata": {},
   "outputs": [
    {
     "name": "stdout",
     "output_type": "stream",
     "text": [
      "price is 9.000 dollare\n"
     ]
    }
   ],
   "source": [
    "A=9\n",
    "print(f\"price is {A:.3f} dollare\")"
   ]
  },
  {
   "cell_type": "code",
   "execution_count": 10,
   "id": "c19e4546-5760-4f83-9f67-2c167f95eb8c",
   "metadata": {},
   "outputs": [
    {
     "name": "stdout",
     "output_type": "stream",
     "text": [
      "the price is 12.0 dollars\n"
     ]
    }
   ],
   "source": [
    "print(f\"the price is {3+9.00} dollars\")"
   ]
  },
  {
   "cell_type": "code",
   "execution_count": 12,
   "id": "67638656-2c46-4685-9f42-0ef7fafce00b",
   "metadata": {},
   "outputs": [
    {
     "name": "stdout",
     "output_type": "stream",
     "text": [
      "nahhhhh\n"
     ]
    }
   ],
   "source": [
    "l1=[\"apple\",\"oranges\",\"kiwi\",\"banana\"]\n",
    "if \"applee\" in l1:\n",
    "    print(\"yeahhh\")\n",
    "else :\n",
    "    print(\"nahhhhh\")"
   ]
  },
  {
   "cell_type": "code",
   "execution_count": 13,
   "id": "0d9e2f30-41b0-47f0-94f8-814febc3e3f0",
   "metadata": {},
   "outputs": [
    {
     "name": "stdout",
     "output_type": "stream",
     "text": [
      "['oranges']\n"
     ]
    }
   ],
   "source": [
    "print(l1[1:2])"
   ]
  },
  {
   "cell_type": "code",
   "execution_count": 14,
   "id": "531205b7-42f3-45f8-bc0c-40d34809f482",
   "metadata": {},
   "outputs": [
    {
     "name": "stdout",
     "output_type": "stream",
     "text": [
      "['apple', 'grapes', 'guava']\n"
     ]
    }
   ],
   "source": [
    "l1[1:2]=[\"grapes\", \"guava\"]\n",
    "print(l1)"
   ]
  },
  {
   "cell_type": "code",
   "execution_count": 15,
   "id": "72d157c6-d9f5-40bb-80c9-caa539dfc423",
   "metadata": {},
   "outputs": [
    {
     "data": {
      "text/plain": [
       "['apple', 'grapes', 'guava']"
      ]
     },
     "execution_count": 15,
     "metadata": {},
     "output_type": "execute_result"
    }
   ],
   "source": [
    "l1"
   ]
  },
  {
   "cell_type": "code",
   "execution_count": 16,
   "id": "5394a705-857a-4a05-9905-9fc1312490c3",
   "metadata": {},
   "outputs": [
    {
     "name": "stdout",
     "output_type": "stream",
     "text": [
      "3\n"
     ]
    }
   ],
   "source": [
    "print(len(l1))"
   ]
  },
  {
   "cell_type": "code",
   "execution_count": 17,
   "id": "8be08caa-b216-4edb-9117-6cfc20af29a9",
   "metadata": {},
   "outputs": [
    {
     "name": "stdout",
     "output_type": "stream",
     "text": [
      "mango\n"
     ]
    }
   ],
   "source": [
    "mylist = ['apple', 'banana', 'cherry']\n",
    "mylist[1:2] = ['kiwi', 'mango']\n",
    "print(mylist[2])"
   ]
  },
  {
   "cell_type": "code",
   "execution_count": 18,
   "id": "be532d0e-ee0a-495e-a1c9-1cf1da49603b",
   "metadata": {},
   "outputs": [
    {
     "data": {
      "text/plain": [
       "['apple', 'kiwi', 'mango', 'cherry']"
      ]
     },
     "execution_count": 18,
     "metadata": {},
     "output_type": "execute_result"
    }
   ],
   "source": [
    "mylist"
   ]
  },
  {
   "cell_type": "code",
   "execution_count": 24,
   "id": "5936c7ac-fa0a-4c70-9ae0-9bcaa6e57ca7",
   "metadata": {},
   "outputs": [
    {
     "data": {
      "text/plain": [
       "[1, 4, 5]"
      ]
     },
     "execution_count": 24,
     "metadata": {},
     "output_type": "execute_result"
    }
   ],
   "source": [
    "l3=[1,2,3,4,5]\n",
    "l3.pop(2)\n",
    "l3\n",
    "del l3[1]\n",
    "l3"
   ]
  },
  {
   "cell_type": "code",
   "execution_count": 20,
   "id": "f6cb81ef-6e13-4d0f-85c7-7191c3677e06",
   "metadata": {},
   "outputs": [
    {
     "ename": "SyntaxError",
     "evalue": "invalid syntax (1389201564.py, line 1)",
     "output_type": "error",
     "traceback": [
      "\u001b[1;36m  Cell \u001b[1;32mIn[20], line 1\u001b[1;36m\u001b[0m\n\u001b[1;33m    l3.pop(2:4)\u001b[0m\n\u001b[1;37m            ^\u001b[0m\n\u001b[1;31mSyntaxError\u001b[0m\u001b[1;31m:\u001b[0m invalid syntax\n"
     ]
    }
   ],
   "source": [
    "l3.pop(2:4)\n",
    "l3\n"
   ]
  },
  {
   "cell_type": "code",
   "execution_count": 21,
   "id": "6b3ce1d9-7fcf-400d-bdbb-0f74f5031297",
   "metadata": {},
   "outputs": [],
   "source": [
    "del l3  "
   ]
  },
  {
   "cell_type": "code",
   "execution_count": 22,
   "id": "feb60b38-227f-47b3-9404-723f7522a4d3",
   "metadata": {},
   "outputs": [
    {
     "ename": "NameError",
     "evalue": "name 'l3' is not defined",
     "output_type": "error",
     "traceback": [
      "\u001b[1;31m---------------------------------------------------------------------------\u001b[0m",
      "\u001b[1;31mNameError\u001b[0m                                 Traceback (most recent call last)",
      "Cell \u001b[1;32mIn[22], line 1\u001b[0m\n\u001b[1;32m----> 1\u001b[0m l3\n",
      "\u001b[1;31mNameError\u001b[0m: name 'l3' is not defined"
     ]
    }
   ],
   "source": [
    "l3"
   ]
  },
  {
   "cell_type": "code",
   "execution_count": 30,
   "id": "fd442ce0-f09d-4f86-ad13-e69658e2e291",
   "metadata": {},
   "outputs": [
    {
     "data": {
      "text/plain": [
       "[5, 4, 3, 2, 1]"
      ]
     },
     "execution_count": 30,
     "metadata": {},
     "output_type": "execute_result"
    }
   ],
   "source": [
    "l3=[1,2,3,4,5]\n",
    "l3.reverse()\n",
    "l3\n"
   ]
  },
  {
   "cell_type": "code",
   "execution_count": 31,
   "id": "50f06e90-eac0-4d0f-89e2-196513520c52",
   "metadata": {},
   "outputs": [
    {
     "data": {
      "text/plain": [
       "[]"
      ]
     },
     "execution_count": 31,
     "metadata": {},
     "output_type": "execute_result"
    }
   ],
   "source": [
    "l3.clear()\n",
    "l3\n"
   ]
  },
  {
   "cell_type": "code",
   "execution_count": null,
   "id": "88ab2749-823f-4ef9-bc59-684c14ae2202",
   "metadata": {},
   "outputs": [],
   "source": []
  }
 ],
 "metadata": {
  "kernelspec": {
   "display_name": "Python 3 (ipykernel)",
   "language": "python",
   "name": "python3"
  },
  "language_info": {
   "codemirror_mode": {
    "name": "ipython",
    "version": 3
   },
   "file_extension": ".py",
   "mimetype": "text/x-python",
   "name": "python",
   "nbconvert_exporter": "python",
   "pygments_lexer": "ipython3",
   "version": "3.12.7"
  }
 },
 "nbformat": 4,
 "nbformat_minor": 5
}
