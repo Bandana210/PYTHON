{
 "cells": [
  {
   "cell_type": "markdown",
   "id": "9391e4f0-25a3-44d6-8989-e59fc8775842",
   "metadata": {},
   "source": [
    "# python data structures  and boolean variable\n",
    "* list\n",
    "* dictiionary\n",
    "* set\n",
    "* tuple\n",
    "  \n"
   ]
  },
  {
   "cell_type": "markdown",
   "id": "7be7dc08-272c-48b2-b1c9-ce92a7ed8680",
   "metadata": {},
   "source": [
    "# boolean variable"
   ]
  },
  {
   "cell_type": "markdown",
   "id": "7a43f27f-b547-4307-bd00-c23634bd3185",
   "metadata": {},
   "source": [
    "# bool() is used to cast any thing into boolean"
   ]
  },
  {
   "cell_type": "code",
   "execution_count": 1,
   "id": "c3aa71b4-5fc0-43d0-bc3f-d2d6d3b547d6",
   "metadata": {},
   "outputs": [
    {
     "data": {
      "text/plain": [
       "False"
      ]
     },
     "execution_count": 1,
     "metadata": {},
     "output_type": "execute_result"
    }
   ],
   "source": [
    "bool(0)"
   ]
  },
  {
   "cell_type": "code",
   "execution_count": 2,
   "id": "a51b6188-d840-439f-b1cd-d75b3ca50ad6",
   "metadata": {},
   "outputs": [
    {
     "data": {
      "text/plain": [
       "True"
      ]
     },
     "execution_count": 2,
     "metadata": {},
     "output_type": "execute_result"
    }
   ],
   "source": [
    "bool(29)"
   ]
  },
  {
   "cell_type": "markdown",
   "id": "f76c1fa5-69b6-40ab-a0bc-2b57f02b0f1d",
   "metadata": {},
   "source": [
    "# inbuilt string function"
   ]
  },
  {
   "cell_type": "markdown",
   "id": "5405308f-98f9-4d77-8714-82bcecd3bdc5",
   "metadata": {},
   "source": [
    "shift + tab -- fnc description\n",
    "mystr.tab -- all inbuilt functions"
   ]
  },
  {
   "cell_type": "code",
   "execution_count": 12,
   "id": "fce10954-0ab7-4c58-a9e2-9df311e22c46",
   "metadata": {},
   "outputs": [],
   "source": [
    "mystr=\"bandana jain\""
   ]
  },
  {
   "cell_type": "code",
   "execution_count": 14,
   "id": "5493a463-a7ec-420f-988c-37bbd433a4ae",
   "metadata": {},
   "outputs": [
    {
     "name": "stdout",
     "output_type": "stream",
     "text": [
      "False\n"
     ]
    }
   ],
   "source": [
    "print(mystr.isalnum())"
   ]
  },
  {
   "cell_type": "code",
   "execution_count": 33,
   "id": "63e73084-235c-4fb2-9ad9-262d37cff109",
   "metadata": {},
   "outputs": [],
   "source": [
    "str=\"bandana123\""
   ]
  },
  {
   "cell_type": "code",
   "execution_count": 47,
   "id": "04fc906e-f3bc-4f40-afaf-99a33c09fd54",
   "metadata": {},
   "outputs": [
    {
     "name": "stdout",
     "output_type": "stream",
     "text": [
      "True\n",
      "False\n"
     ]
    }
   ],
   "source": [
    "print(str.isalnum())\n",
    "print(str.istitle()) ## true when 1st char is capital"
   ]
  },
  {
   "cell_type": "code",
   "execution_count": 41,
   "id": "6f1da704-8c6e-4694-abbb-4df32b4c8d74",
   "metadata": {},
   "outputs": [],
   "source": [
    "a=' Bandana123'   ##  space  at start"
   ]
  },
  {
   "cell_type": "code",
   "execution_count": 43,
   "id": "1e9d316c-912a-43f4-9bfb-048eee7920dd",
   "metadata": {},
   "outputs": [
    {
     "name": "stdout",
     "output_type": "stream",
     "text": [
      "False\n",
      "True\n"
     ]
    }
   ],
   "source": [
    "print(a.isalnum())\n",
    "print(a.istitle())"
   ]
  },
  {
   "cell_type": "code",
   "execution_count": 44,
   "id": "5d06fd1e-ee42-4285-93e1-4985c4f9e038",
   "metadata": {},
   "outputs": [],
   "source": [
    "b='Bandana123'"
   ]
  },
  {
   "cell_type": "code",
   "execution_count": 46,
   "id": "938d615b-d23f-476f-b2fc-78b97e648a56",
   "metadata": {},
   "outputs": [
    {
     "name": "stdout",
     "output_type": "stream",
     "text": [
      "True\n",
      "True\n"
     ]
    }
   ],
   "source": [
    "print(b.isalnum())\n",
    "print(b.istitle())"
   ]
  },
  {
   "cell_type": "code",
   "execution_count": 48,
   "id": "c92e6d87-9e43-44c9-b1bb-c080e50eee4b",
   "metadata": {},
   "outputs": [],
   "source": [
    "a='bandana'\n",
    "b='jain'"
   ]
  },
  {
   "cell_type": "code",
   "execution_count": 49,
   "id": "d60d4b80-0eeb-4c91-a13f-0bdd90a084ee",
   "metadata": {},
   "outputs": [
    {
     "data": {
      "text/plain": [
       "True"
      ]
     },
     "execution_count": 49,
     "metadata": {},
     "output_type": "execute_result"
    }
   ],
   "source": [
    "a.isalpha() or b.isnum()"
   ]
  },
  {
   "cell_type": "markdown",
   "id": "3b51bc5f-5a7c-44b0-9794-24ce97e8b70c",
   "metadata": {},
   "source": [
    "## LISTS  -- muatble "
   ]
  },
  {
   "cell_type": "code",
   "execution_count": 52,
   "id": "6790e8db-2885-4187-b6ad-4391aba52f6f",
   "metadata": {},
   "outputs": [],
   "source": [
    "list=[ 'bandana', 2, 22.2, \"manggo\"]\n"
   ]
  },
  {
   "cell_type": "code",
   "execution_count": 53,
   "id": "753a435c-8479-484a-adb6-5cd775e11735",
   "metadata": {},
   "outputs": [
    {
     "data": {
      "text/plain": [
       "4"
      ]
     },
     "execution_count": 53,
     "metadata": {},
     "output_type": "execute_result"
    }
   ],
   "source": [
    "len(list)"
   ]
  },
  {
   "cell_type": "code",
   "execution_count": 54,
   "id": "9a837647-2ef0-4d91-9b1d-a963e9a65615",
   "metadata": {},
   "outputs": [],
   "source": [
    "list.append(\"jain\")"
   ]
  },
  {
   "cell_type": "code",
   "execution_count": 55,
   "id": "e4cc4ae3-0d74-47ff-90ae-6bec7a790e64",
   "metadata": {},
   "outputs": [
    {
     "data": {
      "text/plain": [
       "['bandana', 2, 22.2, 'manggo', 'jain']"
      ]
     },
     "execution_count": 55,
     "metadata": {},
     "output_type": "execute_result"
    }
   ],
   "source": [
    "list\n"
   ]
  },
  {
   "cell_type": "code",
   "execution_count": 58,
   "id": "403546b5-de11-4be2-b6c6-b39d131e346f",
   "metadata": {},
   "outputs": [
    {
     "data": {
      "text/plain": [
       "['bandana', 66, 66, 2, 22.2, 'manggo', 'jain']"
      ]
     },
     "execution_count": 58,
     "metadata": {},
     "output_type": "execute_result"
    }
   ],
   "source": [
    "list.insert(1,66)  ## indexing from 0 (index, element)\n",
    "list"
   ]
  },
  {
   "cell_type": "code",
   "execution_count": 59,
   "id": "a7d89e95-0bc8-4ba4-b51a-5d035914c538",
   "metadata": {},
   "outputs": [
    {
     "data": {
      "text/plain": [
       "66"
      ]
     },
     "execution_count": 59,
     "metadata": {},
     "output_type": "execute_result"
    }
   ],
   "source": [
    "list[2]"
   ]
  },
  {
   "cell_type": "code",
   "execution_count": 60,
   "id": "8f25bcc6-f729-4f48-b1d5-3a55c36983a5",
   "metadata": {},
   "outputs": [
    {
     "data": {
      "text/plain": [
       "22.2"
      ]
     },
     "execution_count": 60,
     "metadata": {},
     "output_type": "execute_result"
    }
   ],
   "source": [
    "list[4]"
   ]
  },
  {
   "cell_type": "code",
   "execution_count": 66,
   "id": "07561c3a-4f5c-4790-aca2-09cc00b85808",
   "metadata": {},
   "outputs": [
    {
     "data": {
      "text/plain": [
       "[66, 2, 22.2, 'manggo', 'jain']"
      ]
     },
     "execution_count": 66,
     "metadata": {},
     "output_type": "execute_result"
    }
   ],
   "source": [
    "list[2:]  ## from index 2 to end\n"
   ]
  },
  {
   "cell_type": "code",
   "execution_count": 67,
   "id": "74312422-fe42-4091-aeb9-5342132382ad",
   "metadata": {},
   "outputs": [
    {
     "data": {
      "text/plain": [
       "['bandana', 66, 66]"
      ]
     },
     "execution_count": 67,
     "metadata": {},
     "output_type": "execute_result"
    }
   ],
   "source": [
    "list[:3]   ## 3 is exclusive"
   ]
  },
  {
   "cell_type": "code",
   "execution_count": 69,
   "id": "7f49e791-c0a3-4863-9b63-80cc9d8b79d7",
   "metadata": {},
   "outputs": [
    {
     "data": {
      "text/plain": [
       "[66, 2, 22.2]"
      ]
     },
     "execution_count": 69,
     "metadata": {},
     "output_type": "execute_result"
    }
   ],
   "source": [
    "list[2:5]  ## 5 is exclusive"
   ]
  },
  {
   "cell_type": "code",
   "execution_count": 72,
   "id": "55374f1c-4672-4b81-8791-219526208f92",
   "metadata": {},
   "outputs": [
    {
     "data": {
      "text/plain": [
       "['bandana',\n",
       " 66,\n",
       " 66,\n",
       " 2,\n",
       " 22.2,\n",
       " 'manggo',\n",
       " 'jain',\n",
       " ['bandanaaaa', 'jainnnnn'],\n",
       " ['bandanaaaa', 'jainnnnn'],\n",
       " ['bandanaaaaa', 'jainnn']]"
      ]
     },
     "execution_count": 72,
     "metadata": {},
     "output_type": "execute_result"
    }
   ],
   "source": [
    "list.append(['bandanaaaaa','jainnn'])  ## i pressed append 3 times\n",
    "list\n"
   ]
  },
  {
   "cell_type": "code",
   "execution_count": 73,
   "id": "7ce9aac0-d148-4f9f-a443-d193ac7293fa",
   "metadata": {},
   "outputs": [],
   "source": [
    "list.remove(2)  ## element which is 2 not at index 2 "
   ]
  },
  {
   "cell_type": "code",
   "execution_count": 74,
   "id": "2021aaad-d06a-4187-8185-b5155125cc4e",
   "metadata": {},
   "outputs": [
    {
     "data": {
      "text/plain": [
       "['bandana',\n",
       " 66,\n",
       " 66,\n",
       " 22.2,\n",
       " 'manggo',\n",
       " 'jain',\n",
       " ['bandanaaaa', 'jainnnnn'],\n",
       " ['bandanaaaa', 'jainnnnn'],\n",
       " ['bandanaaaaa', 'jainnn']]"
      ]
     },
     "execution_count": 74,
     "metadata": {},
     "output_type": "execute_result"
    }
   ],
   "source": [
    "list"
   ]
  },
  {
   "cell_type": "code",
   "execution_count": 76,
   "id": "1e1c1a4b-7f38-4649-acea-c1fbb41dc362",
   "metadata": {},
   "outputs": [
    {
     "data": {
      "text/plain": [
       "['bandana',\n",
       " 66,\n",
       " 66,\n",
       " 22.2,\n",
       " 'manggo',\n",
       " 'jain',\n",
       " ['bandanaaaa', 'jainnnnn'],\n",
       " ['bandanaaaa', 'jainnnnn'],\n",
       " ['bandanaaaaa', 'jainnn'],\n",
       " 8,\n",
       " 9]"
      ]
     },
     "execution_count": 76,
     "metadata": {},
     "output_type": "execute_result"
    }
   ],
   "source": [
    "list.extend([8,9])\n",
    "list  ## both elements added separtely"
   ]
  },
  {
   "cell_type": "code",
   "execution_count": 78,
   "id": "51e7e9a2-415c-4a3e-9569-45a680406aca",
   "metadata": {},
   "outputs": [
    {
     "data": {
      "text/plain": [
       "['bandana',\n",
       " 66,\n",
       " 22.2,\n",
       " 'manggo',\n",
       " 'jain',\n",
       " ['bandanaaaa', 'jainnnnn'],\n",
       " ['bandanaaaa', 'jainnnnn'],\n",
       " ['bandanaaaaa', 'jainnn'],\n",
       " 8,\n",
       " 9]"
      ]
     },
     "execution_count": 78,
     "metadata": {},
     "output_type": "execute_result"
    }
   ],
   "source": [
    "list.pop(1)  ## remove ele from index -- default from last\n",
    "list\n"
   ]
  },
  {
   "cell_type": "code",
   "execution_count": 79,
   "id": "6f653250-ec28-466a-b77f-b8b3b44afa93",
   "metadata": {},
   "outputs": [
    {
     "data": {
      "text/plain": [
       "['bandanaaaaa', 'jainnn']"
      ]
     },
     "execution_count": 79,
     "metadata": {},
     "output_type": "execute_result"
    }
   ],
   "source": [
    "list.pop(6)   ## 2 times 6th ele removed\n",
    "list.pop(6)"
   ]
  },
  {
   "cell_type": "code",
   "execution_count": 80,
   "id": "2e4c1b64-91cb-4d57-b851-07620c46b187",
   "metadata": {},
   "outputs": [
    {
     "data": {
      "text/plain": [
       "['bandana', 66, 22.2, 'manggo', 'jain', ['bandanaaaa', 'jainnnnn'], 8, 9]"
      ]
     },
     "execution_count": 80,
     "metadata": {},
     "output_type": "execute_result"
    }
   ],
   "source": [
    "list\n"
   ]
  },
  {
   "cell_type": "code",
   "execution_count": 82,
   "id": "80413b13-b1eb-4821-b9ff-16446f6262f8",
   "metadata": {},
   "outputs": [
    {
     "data": {
      "text/plain": [
       "['bandana', 66, 22.2, 'manggo', 'jain', ['bandanaaaa', 'jainnnnn'], 8, 9, 66]"
      ]
     },
     "execution_count": 82,
     "metadata": {},
     "output_type": "execute_result"
    }
   ],
   "source": [
    "list.append(66)\n",
    "list\n"
   ]
  },
  {
   "cell_type": "code",
   "execution_count": 83,
   "id": "45f77c02-be70-4c5a-8a1a-2172f04863a4",
   "metadata": {},
   "outputs": [
    {
     "data": {
      "text/plain": [
       "2"
      ]
     },
     "execution_count": 83,
     "metadata": {},
     "output_type": "execute_result"
    }
   ],
   "source": [
    "list.count(66)"
   ]
  },
  {
   "cell_type": "code",
   "execution_count": 85,
   "id": "3bd6890f-f9f9-47ab-963e-d7aa39f1a2be",
   "metadata": {},
   "outputs": [
    {
     "data": {
      "text/plain": [
       "1"
      ]
     },
     "execution_count": 85,
     "metadata": {},
     "output_type": "execute_result"
    }
   ],
   "source": [
    "list.index(66)    ##v returns index of 66"
   ]
  },
  {
   "cell_type": "code",
   "execution_count": 95,
   "id": "034f60b8-e7a4-4cc4-a31a-00ad4a7973ed",
   "metadata": {},
   "outputs": [
    {
     "data": {
      "text/plain": [
       "8"
      ]
     },
     "execution_count": 95,
     "metadata": {},
     "output_type": "execute_result"
    }
   ],
   "source": [
    "list.index(66,5)   \n",
    "## returns only single value --- jaha phle appear ho gaya 66"
   ]
  },
  {
   "cell_type": "code",
   "execution_count": 97,
   "id": "384026cb-0578-4c56-97af-71b39bd670ea",
   "metadata": {},
   "outputs": [],
   "source": [
    "ls=[1,1,33,4,5,55,6,1,6,7]\n"
   ]
  },
  {
   "cell_type": "code",
   "execution_count": 98,
   "id": "9f0a7035-dc3b-457f-b6d2-2ef2fb163245",
   "metadata": {},
   "outputs": [
    {
     "data": {
      "text/plain": [
       "1"
      ]
     },
     "execution_count": 98,
     "metadata": {},
     "output_type": "execute_result"
    }
   ],
   "source": [
    "ls.index(1,1,5)"
   ]
  },
  {
   "cell_type": "code",
   "execution_count": 99,
   "id": "0631ee64-6015-4767-a62d-275efe1862d1",
   "metadata": {},
   "outputs": [
    {
     "data": {
      "text/plain": [
       "1"
      ]
     },
     "execution_count": 99,
     "metadata": {},
     "output_type": "execute_result"
    }
   ],
   "source": [
    "min(ls)"
   ]
  },
  {
   "cell_type": "code",
   "execution_count": 100,
   "id": "8a08fcd6-d6a7-4598-bbce-fdb1fee97891",
   "metadata": {},
   "outputs": [
    {
     "data": {
      "text/plain": [
       "55"
      ]
     },
     "execution_count": 100,
     "metadata": {},
     "output_type": "execute_result"
    }
   ],
   "source": [
    "max(ls)"
   ]
  },
  {
   "cell_type": "code",
   "execution_count": 101,
   "id": "5d9188ec-cde0-4239-b714-05bdc43f0586",
   "metadata": {},
   "outputs": [
    {
     "data": {
      "text/plain": [
       "0"
      ]
     },
     "execution_count": 101,
     "metadata": {},
     "output_type": "execute_result"
    }
   ],
   "source": [
    "ls.count(2)"
   ]
  },
  {
   "cell_type": "markdown",
   "id": "ca6cc17b-dff0-49c5-9884-43a5637f07e1",
   "metadata": {},
   "source": [
    "## SETS"
   ]
  },
  {
   "cell_type": "markdown",
   "id": "0e4c4b21-26d7-4fd4-8879-22c37e69e38b",
   "metadata": {},
   "source": [
    "* iterable , mutable and no duplicate elements"
   ]
  },
  {
   "cell_type": "code",
   "execution_count": 1,
   "id": "2bc4e38c-ff47-48c2-90b0-28e4195c8bbd",
   "metadata": {},
   "outputs": [],
   "source": [
    "s1={1,2,3,4,3}"
   ]
  },
  {
   "cell_type": "code",
   "execution_count": 2,
   "id": "3c1027b2-a3f3-4699-be76-e0bb3b9963de",
   "metadata": {},
   "outputs": [
    {
     "data": {
      "text/plain": [
       "{1, 2, 3, 4}"
      ]
     },
     "execution_count": 2,
     "metadata": {},
     "output_type": "execute_result"
    }
   ],
   "source": [
    "s1"
   ]
  },
  {
   "cell_type": "code",
   "execution_count": 3,
   "id": "9e452086-4527-42b3-a6bb-c6ba92b9f54d",
   "metadata": {},
   "outputs": [],
   "source": [
    "s2={\"Avengers\", \"Ironman\"}"
   ]
  },
  {
   "cell_type": "code",
   "execution_count": 4,
   "id": "f9dfb06c-a94f-470e-96f7-24488ce436b9",
   "metadata": {},
   "outputs": [
    {
     "data": {
      "text/plain": [
       "{'Avengers', 'Ironman'}"
      ]
     },
     "execution_count": 4,
     "metadata": {},
     "output_type": "execute_result"
    }
   ],
   "source": [
    "s2"
   ]
  },
  {
   "cell_type": "markdown",
   "id": "1ee05cd1-c9f6-4a0c-8b24-b618abf6886f",
   "metadata": {},
   "source": [
    "##  indexing -- doesnot suuport indexing"
   ]
  },
  {
   "cell_type": "code",
   "execution_count": 5,
   "id": "1cfac629-c098-4d06-8e10-b67f81378e4c",
   "metadata": {},
   "outputs": [
    {
     "ename": "TypeError",
     "evalue": "'set' object is not subscriptable",
     "output_type": "error",
     "traceback": [
      "\u001b[1;31m---------------------------------------------------------------------------\u001b[0m",
      "\u001b[1;31mTypeError\u001b[0m                                 Traceback (most recent call last)",
      "Cell \u001b[1;32mIn[5], line 1\u001b[0m\n\u001b[1;32m----> 1\u001b[0m s2[\u001b[38;5;241m0\u001b[39m]\n",
      "\u001b[1;31mTypeError\u001b[0m: 'set' object is not subscriptable"
     ]
    }
   ],
   "source": [
    "s2[0]"
   ]
  },
  {
   "cell_type": "code",
   "execution_count": 6,
   "id": "5cae54d7-d708-4468-8172-dbdd1cce54b7",
   "metadata": {},
   "outputs": [],
   "source": [
    "s2.add(\"hulk\")"
   ]
  },
  {
   "cell_type": "code",
   "execution_count": 7,
   "id": "88e99fae-3edd-4c61-aefc-fa9dac7af79e",
   "metadata": {},
   "outputs": [
    {
     "data": {
      "text/plain": [
       "{'Avengers', 'Ironman', 'hulk'}"
      ]
     },
     "execution_count": 7,
     "metadata": {},
     "output_type": "execute_result"
    }
   ],
   "source": [
    "s2"
   ]
  },
  {
   "cell_type": "code",
   "execution_count": 8,
   "id": "ce190339-33ea-4b09-ab2f-c59cccca17da",
   "metadata": {},
   "outputs": [],
   "source": [
    "s3={\"Avengers\",\"Ironman\", \"hulk\",\"Hitman\"}"
   ]
  },
  {
   "cell_type": "code",
   "execution_count": 9,
   "id": "e4342368-a0b7-4c45-8cf5-1f3bada87558",
   "metadata": {},
   "outputs": [
    {
     "data": {
      "text/plain": [
       "{'Avengers', 'Hitman', 'Ironman', 'hulk'}"
      ]
     },
     "execution_count": 9,
     "metadata": {},
     "output_type": "execute_result"
    }
   ],
   "source": [
    "s3"
   ]
  },
  {
   "cell_type": "code",
   "execution_count": 10,
   "id": "81d4792d-7a81-4a1d-8594-c1cd1e512b5a",
   "metadata": {},
   "outputs": [
    {
     "data": {
      "text/plain": [
       "{'Avengers', 'Ironman', 'hulk'}"
      ]
     },
     "execution_count": 10,
     "metadata": {},
     "output_type": "execute_result"
    }
   ],
   "source": [
    "s2.difference(s1)"
   ]
  },
  {
   "cell_type": "code",
   "execution_count": 11,
   "id": "b1e36f43-a995-402f-808c-5f5d077ce6af",
   "metadata": {},
   "outputs": [
    {
     "data": {
      "text/plain": [
       "{'Hitman'}"
      ]
     },
     "execution_count": 11,
     "metadata": {},
     "output_type": "execute_result"
    }
   ],
   "source": [
    "s3.difference(s2)"
   ]
  },
  {
   "cell_type": "code",
   "execution_count": 12,
   "id": "3aeb9b8c-5f3e-4fb7-932c-504b46a979a1",
   "metadata": {},
   "outputs": [
    {
     "data": {
      "text/plain": [
       "{1, 2, 3, 4}"
      ]
     },
     "execution_count": 12,
     "metadata": {},
     "output_type": "execute_result"
    }
   ],
   "source": [
    "s1.difference(s2)"
   ]
  },
  {
   "cell_type": "code",
   "execution_count": 13,
   "id": "6d96281d-03af-481f-9df5-6a1ef13f9acc",
   "metadata": {},
   "outputs": [
    {
     "data": {
      "text/plain": [
       "set()"
      ]
     },
     "execution_count": 13,
     "metadata": {},
     "output_type": "execute_result"
    }
   ],
   "source": [
    "s2.difference(s3)"
   ]
  },
  {
   "cell_type": "code",
   "execution_count": 14,
   "id": "fe19d57b-b627-47ed-a7c5-26ebdef1bda7",
   "metadata": {},
   "outputs": [
    {
     "data": {
      "text/plain": [
       "{'Avengers', 'Hitman', 'Ironman', 'hulk'}"
      ]
     },
     "execution_count": 14,
     "metadata": {},
     "output_type": "execute_result"
    }
   ],
   "source": [
    "s3"
   ]
  },
  {
   "cell_type": "code",
   "execution_count": 15,
   "id": "8045944e-9ec7-40be-a880-bd9bb1dac22c",
   "metadata": {},
   "outputs": [],
   "source": [
    "s3.difference_update(s2)  -- s3-s2 got saved to s3 "
   ]
  },
  {
   "cell_type": "code",
   "execution_count": 17,
   "id": "8af2e000-fd68-4b09-9c00-629587db0c73",
   "metadata": {},
   "outputs": [
    {
     "data": {
      "text/plain": [
       "set"
      ]
     },
     "execution_count": 17,
     "metadata": {},
     "output_type": "execute_result"
    }
   ],
   "source": [
    "type(s3)"
   ]
  },
  {
   "cell_type": "code",
   "execution_count": 16,
   "id": "12d41e9d-762d-469b-946b-3fbc9142f77a",
   "metadata": {},
   "outputs": [
    {
     "data": {
      "text/plain": [
       "{'Hitman'}"
      ]
     },
     "execution_count": 16,
     "metadata": {},
     "output_type": "execute_result"
    }
   ],
   "source": [
    "s3"
   ]
  },
  {
   "cell_type": "markdown",
   "id": "5f770599-3f74-445e-880b-ba6cd6d64767",
   "metadata": {},
   "source": [
    "## Dictionary  -- \n",
    "* indexed\n",
    "* key valued pair\n",
    "* mutable"
   ]
  },
  {
   "cell_type": "code",
   "execution_count": 18,
   "id": "8c8cf157-b729-4f0c-adb9-7b99aed7abbe",
   "metadata": {},
   "outputs": [],
   "source": [
    "d1={1:\"audi\", 2:\"bmw\",3:\"mercedes\",4:\"ferrari\"}"
   ]
  },
  {
   "cell_type": "code",
   "execution_count": 19,
   "id": "4c0a45b4-a6fd-4c25-ac26-1f44891827ac",
   "metadata": {},
   "outputs": [
    {
     "data": {
      "text/plain": [
       "{1: 'audi', 2: 'bmw', 3: 'mercedes', 4: 'ferrari'}"
      ]
     },
     "execution_count": 19,
     "metadata": {},
     "output_type": "execute_result"
    }
   ],
   "source": [
    "d1"
   ]
  },
  {
   "cell_type": "code",
   "execution_count": 21,
   "id": "6aba439b-71da-4ea3-8e07-d27c27d02d65",
   "metadata": {},
   "outputs": [
    {
     "name": "stdout",
     "output_type": "stream",
     "text": [
      "1\n",
      "2\n",
      "3\n",
      "4\n"
     ]
    }
   ],
   "source": [
    "for i in d1:\n",
    "    print(i)"
   ]
  },
  {
   "cell_type": "code",
   "execution_count": 22,
   "id": "34384a25-b975-40c9-9418-cddaba5018de",
   "metadata": {},
   "outputs": [
    {
     "data": {
      "text/plain": [
       "'audi'"
      ]
     },
     "execution_count": 22,
     "metadata": {},
     "output_type": "execute_result"
    }
   ],
   "source": [
    "d1[1]"
   ]
  },
  {
   "cell_type": "code",
   "execution_count": 24,
   "id": "fe4f31ff-a8af-4e58-983b-938afeaaf169",
   "metadata": {},
   "outputs": [
    {
     "name": "stdout",
     "output_type": "stream",
     "text": [
      "audi\n",
      "bmw\n",
      "mercedes\n",
      "ferrari\n"
     ]
    }
   ],
   "source": [
    "for i in d1.values():\n",
    "    print(i)"
   ]
  },
  {
   "cell_type": "code",
   "execution_count": 25,
   "id": "7715ee63-ae13-4038-ba8a-75b2e301fae8",
   "metadata": {},
   "outputs": [
    {
     "name": "stdout",
     "output_type": "stream",
     "text": [
      "(1, 'audi')\n",
      "(2, 'bmw')\n",
      "(3, 'mercedes')\n",
      "(4, 'ferrari')\n"
     ]
    }
   ],
   "source": [
    "for i in d1.items():\n",
    "    print(i)"
   ]
  },
  {
   "cell_type": "code",
   "execution_count": 26,
   "id": "2fea1ee3-8ce1-4486-af7f-7e9366f334bc",
   "metadata": {},
   "outputs": [],
   "source": [
    "d1[2]=\"bmw 2.0\""
   ]
  },
  {
   "cell_type": "code",
   "execution_count": 27,
   "id": "7a52266e-e23d-4d21-95ec-598d777c4f0c",
   "metadata": {},
   "outputs": [
    {
     "data": {
      "text/plain": [
       "{1: 'audi', 2: 'bmw 2.0', 3: 'mercedes', 4: 'ferrari'}"
      ]
     },
     "execution_count": 27,
     "metadata": {},
     "output_type": "execute_result"
    }
   ],
   "source": [
    "d1"
   ]
  },
  {
   "cell_type": "code",
   "execution_count": 28,
   "id": "43d66d98-c78b-4958-9fc6-e56ca0a46e87",
   "metadata": {},
   "outputs": [],
   "source": [
    "d1[5]=\"maruti\""
   ]
  },
  {
   "cell_type": "code",
   "execution_count": 30,
   "id": "c86a5f36-349f-4394-bf38-eace6c99d34b",
   "metadata": {},
   "outputs": [
    {
     "data": {
      "text/plain": [
       "{1: 'audi', 2: 'bmw 2.0', 3: 'mercedes', 4: 'ferrari', 5: 'maruti'}"
      ]
     },
     "execution_count": 30,
     "metadata": {},
     "output_type": "execute_result"
    }
   ],
   "source": [
    "d1"
   ]
  },
  {
   "cell_type": "code",
   "execution_count": null,
   "id": "3d1ce9d9-80d4-4fad-ac82-1b528d83f31c",
   "metadata": {},
   "outputs": [],
   "source": [
    "## Nested dictionary"
   ]
  },
  {
   "cell_type": "code",
   "execution_count": 31,
   "id": "0b841caf-06b4-4216-aaff-a967e54271c8",
   "metadata": {},
   "outputs": [],
   "source": [
    "c1={'audi':1908}\n",
    "c2={'bmw 2.0':1940}\n",
    "c3={'mercedes0':1990}\n",
    "c4={'ferrari':1998}\n",
    "c5={'maruti':1999}\n",
    "\n",
    "car={1:c1, 2:c2 , 3:c3, 4:c4, 5:c5}"
   ]
  },
  {
   "cell_type": "code",
   "execution_count": 32,
   "id": "d33e409b-4d57-4841-a5cd-733f21bcba59",
   "metadata": {},
   "outputs": [
    {
     "data": {
      "text/plain": [
       "{1: {'audi': 1908},\n",
       " 2: {'bmw 2.0': 1940},\n",
       " 3: {'mercedes0': 1990},\n",
       " 4: {'ferrari': 1998},\n",
       " 5: {'maruti': 1999}}"
      ]
     },
     "execution_count": 32,
     "metadata": {},
     "output_type": "execute_result"
    }
   ],
   "source": [
    "car"
   ]
  },
  {
   "cell_type": "code",
   "execution_count": 34,
   "id": "04076974-c0c3-47bf-be3e-7e543cf45e70",
   "metadata": {},
   "outputs": [
    {
     "name": "stdout",
     "output_type": "stream",
     "text": [
      "1908\n"
     ]
    }
   ],
   "source": [
    "## retriving\n",
    "print(car[1]['audi'])"
   ]
  },
  {
   "cell_type": "markdown",
   "id": "86d3dd79-840a-4897-b297-1b001901ea1e",
   "metadata": {},
   "source": [
    "## tuple\n",
    "* immutable"
   ]
  },
  {
   "cell_type": "code",
   "execution_count": 3,
   "id": "4552ba40-7fb4-4e08-80a2-495e7c7a3f53",
   "metadata": {},
   "outputs": [],
   "source": [
    "t1=('bandana', 'tanu', 'pranshu')"
   ]
  },
  {
   "cell_type": "code",
   "execution_count": 4,
   "id": "f9bafd7a-fae6-4ba1-aca9-0f10b81b7360",
   "metadata": {},
   "outputs": [
    {
     "data": {
      "text/plain": [
       "('bandana', 'tanu', 'pranshu')"
      ]
     },
     "execution_count": 4,
     "metadata": {},
     "output_type": "execute_result"
    }
   ],
   "source": [
    "t1"
   ]
  },
  {
   "cell_type": "code",
   "execution_count": 5,
   "id": "7f78f37d",
   "metadata": {},
   "outputs": [
    {
     "ename": "TypeError",
     "evalue": "'tuple' object does not support item assignment",
     "output_type": "error",
     "traceback": [
      "\u001b[1;31m---------------------------------------------------------------------------\u001b[0m",
      "\u001b[1;31mTypeError\u001b[0m                                 Traceback (most recent call last)",
      "Cell \u001b[1;32mIn[5], line 1\u001b[0m\n\u001b[1;32m----> 1\u001b[0m t1[\u001b[38;5;241m0\u001b[39m]\u001b[38;5;241m=\u001b[39m\u001b[38;5;124m'\u001b[39m\u001b[38;5;124mjain\u001b[39m\u001b[38;5;124m'\u001b[39m\n",
      "\u001b[1;31mTypeError\u001b[0m: 'tuple' object does not support item assignment"
     ]
    }
   ],
   "source": [
    "t1[0]='jain'"
   ]
  },
  {
   "cell_type": "code",
   "execution_count": 6,
   "id": "cde2c050-b2ec-4952-86aa-bcba7ada95cf",
   "metadata": {},
   "outputs": [],
   "source": [
    "t1=(1,2,3,4)"
   ]
  },
  {
   "cell_type": "code",
   "execution_count": 7,
   "id": "da635aa0-d834-45ed-a56c-c7212c41d209",
   "metadata": {},
   "outputs": [
    {
     "data": {
      "text/plain": [
       "(1, 2, 3, 4)"
      ]
     },
     "execution_count": 7,
     "metadata": {},
     "output_type": "execute_result"
    }
   ],
   "source": [
    "t1"
   ]
  },
  {
   "cell_type": "code",
   "execution_count": null,
   "id": "2be3d5e2-b9a9-4326-ae03-705d50e4511f",
   "metadata": {},
   "outputs": [],
   "source": []
  }
 ],
 "metadata": {
  "kernelspec": {
   "display_name": "Python 3 (ipykernel)",
   "language": "python",
   "name": "python3"
  },
  "language_info": {
   "codemirror_mode": {
    "name": "ipython",
    "version": 3
   },
   "file_extension": ".py",
   "mimetype": "text/x-python",
   "name": "python",
   "nbconvert_exporter": "python",
   "pygments_lexer": "ipython3",
   "version": "3.12.7"
  }
 },
 "nbformat": 4,
 "nbformat_minor": 5
}
