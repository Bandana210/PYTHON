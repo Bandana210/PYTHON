{
 "cells": [
  {
   "cell_type": "markdown",
   "id": "9391e4f0-25a3-44d6-8989-e59fc8775842",
   "metadata": {},
   "source": [
    "# python data structures  and boolean variable\n",
    "* list\n",
    "* dictiionary\n",
    "* set\n",
    "* tuple\n",
    "  \n"
   ]
  },
  {
   "cell_type": "markdown",
   "id": "7be7dc08-272c-48b2-b1c9-ce92a7ed8680",
   "metadata": {},
   "source": [
    "# boolean variable"
   ]
  },
  {
   "cell_type": "markdown",
   "id": "7a43f27f-b547-4307-bd00-c23634bd3185",
   "metadata": {},
   "source": [
    "# bool() is used to cast any thing into boolean"
   ]
  },
  {
   "cell_type": "code",
   "execution_count": 1,
   "id": "c3aa71b4-5fc0-43d0-bc3f-d2d6d3b547d6",
   "metadata": {},
   "outputs": [
    {
     "data": {
      "text/plain": [
       "False"
      ]
     },
     "execution_count": 1,
     "metadata": {},
     "output_type": "execute_result"
    }
   ],
   "source": [
    "bool(0)"
   ]
  },
  {
   "cell_type": "code",
   "execution_count": 2,
   "id": "a51b6188-d840-439f-b1cd-d75b3ca50ad6",
   "metadata": {},
   "outputs": [
    {
     "data": {
      "text/plain": [
       "True"
      ]
     },
     "execution_count": 2,
     "metadata": {},
     "output_type": "execute_result"
    }
   ],
   "source": [
    "bool(29)"
   ]
  },
  {
   "cell_type": "markdown",
   "id": "f76c1fa5-69b6-40ab-a0bc-2b57f02b0f1d",
   "metadata": {},
   "source": [
    "# inbuilt string function"
   ]
  },
  {
   "cell_type": "markdown",
   "id": "5405308f-98f9-4d77-8714-82bcecd3bdc5",
   "metadata": {},
   "source": [
    "shift + tab -- fnc description\n",
    "mystr.tab -- all inbuilt functions"
   ]
  },
  {
   "cell_type": "code",
   "execution_count": 12,
   "id": "fce10954-0ab7-4c58-a9e2-9df311e22c46",
   "metadata": {},
   "outputs": [],
   "source": [
    "mystr=\"bandana jain\""
   ]
  },
  {
   "cell_type": "code",
   "execution_count": 14,
   "id": "5493a463-a7ec-420f-988c-37bbd433a4ae",
   "metadata": {},
   "outputs": [
    {
     "name": "stdout",
     "output_type": "stream",
     "text": [
      "False\n"
     ]
    }
   ],
   "source": [
    "print(mystr.isalnum())"
   ]
  },
  {
   "cell_type": "code",
   "execution_count": 33,
   "id": "63e73084-235c-4fb2-9ad9-262d37cff109",
   "metadata": {},
   "outputs": [],
   "source": [
    "str=\"bandana123\""
   ]
  },
  {
   "cell_type": "code",
   "execution_count": 47,
   "id": "04fc906e-f3bc-4f40-afaf-99a33c09fd54",
   "metadata": {},
   "outputs": [
    {
     "name": "stdout",
     "output_type": "stream",
     "text": [
      "True\n",
      "False\n"
     ]
    }
   ],
   "source": [
    "print(str.isalnum())\n",
    "print(str.istitle()) ## true when 1st char is capital"
   ]
  },
  {
   "cell_type": "code",
   "execution_count": 41,
   "id": "6f1da704-8c6e-4694-abbb-4df32b4c8d74",
   "metadata": {},
   "outputs": [],
   "source": [
    "a=' Bandana123'   ##  space  at start"
   ]
  },
  {
   "cell_type": "code",
   "execution_count": 43,
   "id": "1e9d316c-912a-43f4-9bfb-048eee7920dd",
   "metadata": {},
   "outputs": [
    {
     "name": "stdout",
     "output_type": "stream",
     "text": [
      "False\n",
      "True\n"
     ]
    }
   ],
   "source": [
    "print(a.isalnum())\n",
    "print(a.istitle())"
   ]
  },
  {
   "cell_type": "code",
   "execution_count": 44,
   "id": "5d06fd1e-ee42-4285-93e1-4985c4f9e038",
   "metadata": {},
   "outputs": [],
   "source": [
    "b='Bandana123'"
   ]
  },
  {
   "cell_type": "code",
   "execution_count": 46,
   "id": "938d615b-d23f-476f-b2fc-78b97e648a56",
   "metadata": {},
   "outputs": [
    {
     "name": "stdout",
     "output_type": "stream",
     "text": [
      "True\n",
      "True\n"
     ]
    }
   ],
   "source": [
    "print(b.isalnum())\n",
    "print(b.istitle())"
   ]
  },
  {
   "cell_type": "code",
   "execution_count": 48,
   "id": "c92e6d87-9e43-44c9-b1bb-c080e50eee4b",
   "metadata": {},
   "outputs": [],
   "source": [
    "a='bandana'\n",
    "b='jain'"
   ]
  },
  {
   "cell_type": "code",
   "execution_count": 49,
   "id": "d60d4b80-0eeb-4c91-a13f-0bdd90a084ee",
   "metadata": {},
   "outputs": [
    {
     "data": {
      "text/plain": [
       "True"
      ]
     },
     "execution_count": 49,
     "metadata": {},
     "output_type": "execute_result"
    }
   ],
   "source": [
    "a.isalpha() or b.isnum()"
   ]
  },
  {
   "cell_type": "markdown",
   "id": "3b51bc5f-5a7c-44b0-9794-24ce97e8b70c",
   "metadata": {},
   "source": [
    "## LISTS  -- muatble "
   ]
  },
  {
   "cell_type": "code",
   "execution_count": 52,
   "id": "6790e8db-2885-4187-b6ad-4391aba52f6f",
   "metadata": {},
   "outputs": [],
   "source": [
    "list=[ 'bandana', 2, 22.2, \"manggo\"]\n"
   ]
  },
  {
   "cell_type": "code",
   "execution_count": 53,
   "id": "753a435c-8479-484a-adb6-5cd775e11735",
   "metadata": {},
   "outputs": [
    {
     "data": {
      "text/plain": [
       "4"
      ]
     },
     "execution_count": 53,
     "metadata": {},
     "output_type": "execute_result"
    }
   ],
   "source": [
    "len(list)"
   ]
  },
  {
   "cell_type": "code",
   "execution_count": 54,
   "id": "9a837647-2ef0-4d91-9b1d-a963e9a65615",
   "metadata": {},
   "outputs": [],
   "source": [
    "list.append(\"jain\")"
   ]
  },
  {
   "cell_type": "code",
   "execution_count": 55,
   "id": "e4cc4ae3-0d74-47ff-90ae-6bec7a790e64",
   "metadata": {},
   "outputs": [
    {
     "data": {
      "text/plain": [
       "['bandana', 2, 22.2, 'manggo', 'jain']"
      ]
     },
     "execution_count": 55,
     "metadata": {},
     "output_type": "execute_result"
    }
   ],
   "source": [
    "list\n"
   ]
  },
  {
   "cell_type": "code",
   "execution_count": 58,
   "id": "403546b5-de11-4be2-b6c6-b39d131e346f",
   "metadata": {},
   "outputs": [
    {
     "data": {
      "text/plain": [
       "['bandana', 66, 66, 2, 22.2, 'manggo', 'jain']"
      ]
     },
     "execution_count": 58,
     "metadata": {},
     "output_type": "execute_result"
    }
   ],
   "source": [
    "list.insert(1,66)  ## indexing from 0 (index, element)\n",
    "list"
   ]
  },
  {
   "cell_type": "code",
   "execution_count": 59,
   "id": "a7d89e95-0bc8-4ba4-b51a-5d035914c538",
   "metadata": {},
   "outputs": [
    {
     "data": {
      "text/plain": [
       "66"
      ]
     },
     "execution_count": 59,
     "metadata": {},
     "output_type": "execute_result"
    }
   ],
   "source": [
    "list[2]"
   ]
  },
  {
   "cell_type": "code",
   "execution_count": 60,
   "id": "8f25bcc6-f729-4f48-b1d5-3a55c36983a5",
   "metadata": {},
   "outputs": [
    {
     "data": {
      "text/plain": [
       "22.2"
      ]
     },
     "execution_count": 60,
     "metadata": {},
     "output_type": "execute_result"
    }
   ],
   "source": [
    "list[4]"
   ]
  },
  {
   "cell_type": "code",
   "execution_count": 66,
   "id": "07561c3a-4f5c-4790-aca2-09cc00b85808",
   "metadata": {},
   "outputs": [
    {
     "data": {
      "text/plain": [
       "[66, 2, 22.2, 'manggo', 'jain']"
      ]
     },
     "execution_count": 66,
     "metadata": {},
     "output_type": "execute_result"
    }
   ],
   "source": [
    "list[2:]  ## from index 2 to end\n"
   ]
  },
  {
   "cell_type": "code",
   "execution_count": 67,
   "id": "74312422-fe42-4091-aeb9-5342132382ad",
   "metadata": {},
   "outputs": [
    {
     "data": {
      "text/plain": [
       "['bandana', 66, 66]"
      ]
     },
     "execution_count": 67,
     "metadata": {},
     "output_type": "execute_result"
    }
   ],
   "source": [
    "list[:3]   ## 3 is exclusive"
   ]
  },
  {
   "cell_type": "code",
   "execution_count": 69,
   "id": "7f49e791-c0a3-4863-9b63-80cc9d8b79d7",
   "metadata": {},
   "outputs": [
    {
     "data": {
      "text/plain": [
       "[66, 2, 22.2]"
      ]
     },
     "execution_count": 69,
     "metadata": {},
     "output_type": "execute_result"
    }
   ],
   "source": [
    "list[2:5]  ## 5 is exclusive"
   ]
  },
  {
   "cell_type": "code",
   "execution_count": 72,
   "id": "55374f1c-4672-4b81-8791-219526208f92",
   "metadata": {},
   "outputs": [
    {
     "data": {
      "text/plain": [
       "['bandana',\n",
       " 66,\n",
       " 66,\n",
       " 2,\n",
       " 22.2,\n",
       " 'manggo',\n",
       " 'jain',\n",
       " ['bandanaaaa', 'jainnnnn'],\n",
       " ['bandanaaaa', 'jainnnnn'],\n",
       " ['bandanaaaaa', 'jainnn']]"
      ]
     },
     "execution_count": 72,
     "metadata": {},
     "output_type": "execute_result"
    }
   ],
   "source": [
    "list.append(['bandanaaaaa','jainnn'])  ## i pressed append 3 times\n",
    "list\n"
   ]
  },
  {
   "cell_type": "code",
   "execution_count": 73,
   "id": "7ce9aac0-d148-4f9f-a443-d193ac7293fa",
   "metadata": {},
   "outputs": [],
   "source": [
    "list.remove(2)  ## element which is 2 not at index 2 "
   ]
  },
  {
   "cell_type": "code",
   "execution_count": 74,
   "id": "2021aaad-d06a-4187-8185-b5155125cc4e",
   "metadata": {},
   "outputs": [
    {
     "data": {
      "text/plain": [
       "['bandana',\n",
       " 66,\n",
       " 66,\n",
       " 22.2,\n",
       " 'manggo',\n",
       " 'jain',\n",
       " ['bandanaaaa', 'jainnnnn'],\n",
       " ['bandanaaaa', 'jainnnnn'],\n",
       " ['bandanaaaaa', 'jainnn']]"
      ]
     },
     "execution_count": 74,
     "metadata": {},
     "output_type": "execute_result"
    }
   ],
   "source": [
    "list"
   ]
  },
  {
   "cell_type": "code",
   "execution_count": 76,
   "id": "1e1c1a4b-7f38-4649-acea-c1fbb41dc362",
   "metadata": {},
   "outputs": [
    {
     "data": {
      "text/plain": [
       "['bandana',\n",
       " 66,\n",
       " 66,\n",
       " 22.2,\n",
       " 'manggo',\n",
       " 'jain',\n",
       " ['bandanaaaa', 'jainnnnn'],\n",
       " ['bandanaaaa', 'jainnnnn'],\n",
       " ['bandanaaaaa', 'jainnn'],\n",
       " 8,\n",
       " 9]"
      ]
     },
     "execution_count": 76,
     "metadata": {},
     "output_type": "execute_result"
    }
   ],
   "source": [
    "list.extend([8,9])\n",
    "list  ## both elements added separtely"
   ]
  },
  {
   "cell_type": "code",
   "execution_count": 78,
   "id": "51e7e9a2-415c-4a3e-9569-45a680406aca",
   "metadata": {},
   "outputs": [
    {
     "data": {
      "text/plain": [
       "['bandana',\n",
       " 66,\n",
       " 22.2,\n",
       " 'manggo',\n",
       " 'jain',\n",
       " ['bandanaaaa', 'jainnnnn'],\n",
       " ['bandanaaaa', 'jainnnnn'],\n",
       " ['bandanaaaaa', 'jainnn'],\n",
       " 8,\n",
       " 9]"
      ]
     },
     "execution_count": 78,
     "metadata": {},
     "output_type": "execute_result"
    }
   ],
   "source": [
    "list.pop(1)  ## remove ele from index -- default from last\n",
    "list\n"
   ]
  },
  {
   "cell_type": "code",
   "execution_count": 79,
   "id": "6f653250-ec28-466a-b77f-b8b3b44afa93",
   "metadata": {},
   "outputs": [
    {
     "data": {
      "text/plain": [
       "['bandanaaaaa', 'jainnn']"
      ]
     },
     "execution_count": 79,
     "metadata": {},
     "output_type": "execute_result"
    }
   ],
   "source": [
    "list.pop(6)   ## 2 times 6th ele removed\n",
    "list.pop(6)"
   ]
  },
  {
   "cell_type": "code",
   "execution_count": 80,
   "id": "2e4c1b64-91cb-4d57-b851-07620c46b187",
   "metadata": {},
   "outputs": [
    {
     "data": {
      "text/plain": [
       "['bandana', 66, 22.2, 'manggo', 'jain', ['bandanaaaa', 'jainnnnn'], 8, 9]"
      ]
     },
     "execution_count": 80,
     "metadata": {},
     "output_type": "execute_result"
    }
   ],
   "source": [
    "list\n"
   ]
  },
  {
   "cell_type": "code",
   "execution_count": 82,
   "id": "80413b13-b1eb-4821-b9ff-16446f6262f8",
   "metadata": {},
   "outputs": [
    {
     "data": {
      "text/plain": [
       "['bandana', 66, 22.2, 'manggo', 'jain', ['bandanaaaa', 'jainnnnn'], 8, 9, 66]"
      ]
     },
     "execution_count": 82,
     "metadata": {},
     "output_type": "execute_result"
    }
   ],
   "source": [
    "list.append(66)\n",
    "list\n"
   ]
  },
  {
   "cell_type": "code",
   "execution_count": 83,
   "id": "45f77c02-be70-4c5a-8a1a-2172f04863a4",
   "metadata": {},
   "outputs": [
    {
     "data": {
      "text/plain": [
       "2"
      ]
     },
     "execution_count": 83,
     "metadata": {},
     "output_type": "execute_result"
    }
   ],
   "source": [
    "list.count(66)"
   ]
  },
  {
   "cell_type": "code",
   "execution_count": 85,
   "id": "3bd6890f-f9f9-47ab-963e-d7aa39f1a2be",
   "metadata": {},
   "outputs": [
    {
     "data": {
      "text/plain": [
       "1"
      ]
     },
     "execution_count": 85,
     "metadata": {},
     "output_type": "execute_result"
    }
   ],
   "source": [
    "list.index(66)    ##v returns index of 66"
   ]
  },
  {
   "cell_type": "code",
   "execution_count": 95,
   "id": "034f60b8-e7a4-4cc4-a31a-00ad4a7973ed",
   "metadata": {},
   "outputs": [
    {
     "data": {
      "text/plain": [
       "8"
      ]
     },
     "execution_count": 95,
     "metadata": {},
     "output_type": "execute_result"
    }
   ],
   "source": [
    "list.index(66,5)   \n",
    "## returns only single value --- jaha phle appear ho gaya 66"
   ]
  },
  {
   "cell_type": "code",
   "execution_count": 97,
   "id": "384026cb-0578-4c56-97af-71b39bd670ea",
   "metadata": {},
   "outputs": [],
   "source": [
    "ls=[1,1,33,4,5,55,6,1,6,7]\n"
   ]
  },
  {
   "cell_type": "code",
   "execution_count": 98,
   "id": "9f0a7035-dc3b-457f-b6d2-2ef2fb163245",
   "metadata": {},
   "outputs": [
    {
     "data": {
      "text/plain": [
       "1"
      ]
     },
     "execution_count": 98,
     "metadata": {},
     "output_type": "execute_result"
    }
   ],
   "source": [
    "ls.index(1,1,5)"
   ]
  },
  {
   "cell_type": "code",
   "execution_count": 99,
   "id": "0631ee64-6015-4767-a62d-275efe1862d1",
   "metadata": {},
   "outputs": [
    {
     "data": {
      "text/plain": [
       "1"
      ]
     },
     "execution_count": 99,
     "metadata": {},
     "output_type": "execute_result"
    }
   ],
   "source": [
    "min(ls)"
   ]
  },
  {
   "cell_type": "code",
   "execution_count": 100,
   "id": "8a08fcd6-d6a7-4598-bbce-fdb1fee97891",
   "metadata": {},
   "outputs": [
    {
     "data": {
      "text/plain": [
       "55"
      ]
     },
     "execution_count": 100,
     "metadata": {},
     "output_type": "execute_result"
    }
   ],
   "source": [
    "max(ls)"
   ]
  },
  {
   "cell_type": "code",
   "execution_count": 101,
   "id": "5d9188ec-cde0-4239-b714-05bdc43f0586",
   "metadata": {},
   "outputs": [
    {
     "data": {
      "text/plain": [
       "0"
      ]
     },
     "execution_count": 101,
     "metadata": {},
     "output_type": "execute_result"
    }
   ],
   "source": [
    "ls.count(2)"
   ]
  },
  {
   "cell_type": "markdown",
   "id": "ca6cc17b-dff0-49c5-9884-43a5637f07e1",
   "metadata": {},
   "source": [
    "## SETS"
   ]
  },
  {
   "cell_type": "markdown",
   "id": "0e4c4b21-26d7-4fd4-8879-22c37e69e38b",
   "metadata": {},
   "source": [
    "* iterable , mutable and no duplicate elements"
   ]
  },
  {
   "cell_type": "code",
   "execution_count": null,
   "id": "2bc4e38c-ff47-48c2-90b0-28e4195c8bbd",
   "metadata": {},
   "outputs": [],
   "source": []
  }
 ],
 "metadata": {
  "kernelspec": {
   "display_name": "Python 3 (ipykernel)",
   "language": "python",
   "name": "python3"
  },
  "language_info": {
   "codemirror_mode": {
    "name": "ipython",
    "version": 3
   },
   "file_extension": ".py",
   "mimetype": "text/x-python",
   "name": "python",
   "nbconvert_exporter": "python",
   "pygments_lexer": "ipython3",
   "version": "3.12.7"
  }
 },
 "nbformat": 4,
 "nbformat_minor": 5
}
