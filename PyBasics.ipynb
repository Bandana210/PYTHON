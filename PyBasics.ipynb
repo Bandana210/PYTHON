{
 "cells": [
  {
   "cell_type": "markdown",
   "id": "ef301b0c-8c4b-48ff-b564-277c48179fc2",
   "metadata": {},
   "source": [
    "# PYTHON Basics\n",
    "## Welcome\n",
    " * Datatype\n",
    " "
   ]
  },
  {
   "cell_type": "markdown",
   "id": "069345ed-bb68-44a8-9857-ec3488f287cf",
   "metadata": {},
   "source": [
    "# esc+ A -- new cell at top"
   ]
  },
  {
   "cell_type": "markdown",
   "id": "5575b4da-5176-47c7-90d8-22a0a4a8710d",
   "metadata": {},
   "source": [
    "# various datatype"
   ]
  },
  {
   "cell_type": "code",
   "execution_count": 3,
   "id": "1a3ebb3a-b225-4bab-9957-18432805c230",
   "metadata": {},
   "outputs": [
    {
     "data": {
      "text/plain": [
       "20"
      ]
     },
     "execution_count": 3,
     "metadata": {},
     "output_type": "execute_result"
    }
   ],
   "source": [
    "2*10"
   ]
  },
  {
   "cell_type": "code",
   "execution_count": 4,
   "id": "b0a6199c-3d09-476b-9fca-3b886629e607",
   "metadata": {},
   "outputs": [
    {
     "data": {
      "text/plain": [
       "1024"
      ]
     },
     "execution_count": 4,
     "metadata": {},
     "output_type": "execute_result"
    }
   ],
   "source": [
    "2**10"
   ]
  },
  {
   "cell_type": "code",
   "execution_count": 6,
   "id": "50306602-db94-4f97-90a7-13c8b49e545d",
   "metadata": {},
   "outputs": [
    {
     "data": {
      "text/plain": [
       "'strstrstrstrstrstrstrstrstrstr'"
      ]
     },
     "execution_count": 6,
     "metadata": {},
     "output_type": "execute_result"
    }
   ],
   "source": [
    "10 * 'str'"
   ]
  },
  {
   "cell_type": "code",
   "execution_count": 7,
   "id": "2aaf2bec-a689-409f-985a-7f0477f5b896",
   "metadata": {},
   "outputs": [
    {
     "name": "stdout",
     "output_type": "stream",
     "text": [
      "hello\n"
     ]
    }
   ],
   "source": [
    "print(\"hello\")"
   ]
  },
  {
   "cell_type": "code",
   "execution_count": 8,
   "id": "c210849e-c614-481b-a236-35f4d50d1b76",
   "metadata": {},
   "outputs": [
    {
     "data": {
      "text/plain": [
       "int"
      ]
     },
     "execution_count": 8,
     "metadata": {},
     "output_type": "execute_result"
    }
   ],
   "source": [
    "type(1)"
   ]
  },
  {
   "cell_type": "code",
   "execution_count": 9,
   "id": "02bcd603-1c93-4b4e-9850-e3976c4cf394",
   "metadata": {},
   "outputs": [
    {
     "data": {
      "text/plain": [
       "type"
      ]
     },
     "execution_count": 9,
     "metadata": {},
     "output_type": "execute_result"
    }
   ],
   "source": [
    "type(str)"
   ]
  },
  {
   "cell_type": "code",
   "execution_count": 10,
   "id": "471f7a6b-a16d-4570-b1a4-bc69390a439c",
   "metadata": {},
   "outputs": [
    {
     "data": {
      "text/plain": [
       "str"
      ]
     },
     "execution_count": 10,
     "metadata": {},
     "output_type": "execute_result"
    }
   ],
   "source": [
    "type('str')"
   ]
  },
  {
   "cell_type": "code",
   "execution_count": 11,
   "id": "83dbf82b-39fc-4885-b328-fc822cf62901",
   "metadata": {},
   "outputs": [
    {
     "data": {
      "text/plain": [
       "str"
      ]
     },
     "execution_count": 11,
     "metadata": {},
     "output_type": "execute_result"
    }
   ],
   "source": [
    "type('a')"
   ]
  },
  {
   "cell_type": "code",
   "execution_count": 12,
   "id": "34e25dc6-f23d-49e1-a0fe-a163f620d0df",
   "metadata": {},
   "outputs": [
    {
     "data": {
      "text/plain": [
       "bool"
      ]
     },
     "execution_count": 12,
     "metadata": {},
     "output_type": "execute_result"
    }
   ],
   "source": [
    "type(True)"
   ]
  },
  {
   "cell_type": "code",
   "execution_count": 13,
   "id": "b06740e5-39d8-408d-a5dc-f70dd429c7f8",
   "metadata": {},
   "outputs": [
    {
     "data": {
      "text/plain": [
       "float"
      ]
     },
     "execution_count": 13,
     "metadata": {},
     "output_type": "execute_result"
    }
   ],
   "source": [
    "type(10.11)"
   ]
  },
  {
   "cell_type": "code",
   "execution_count": 14,
   "id": "0932c33e-059d-4759-ac26-b85ef8145940",
   "metadata": {},
   "outputs": [
    {
     "name": "stdout",
     "output_type": "stream",
     "text": [
      "10\n"
     ]
    }
   ],
   "source": [
    "a=10\n",
    "print(a)"
   ]
  },
  {
   "cell_type": "code",
   "execution_count": 15,
   "id": "d7a9032b-200c-427e-abd8-c6c53de93d0e",
   "metadata": {},
   "outputs": [
    {
     "data": {
      "text/plain": [
       "10"
      ]
     },
     "execution_count": 15,
     "metadata": {},
     "output_type": "execute_result"
    }
   ],
   "source": [
    "a"
   ]
  },
  {
   "cell_type": "code",
   "execution_count": 16,
   "id": "313cfbae-b052-4ffe-87ae-7ce641bf09c1",
   "metadata": {},
   "outputs": [],
   "source": [
    "a=\"bandana\""
   ]
  },
  {
   "cell_type": "code",
   "execution_count": 17,
   "id": "00aef2eb-3417-4f14-b7f1-9dd2d364c8a0",
   "metadata": {},
   "outputs": [
    {
     "data": {
      "text/plain": [
       "'bandana'"
      ]
     },
     "execution_count": 17,
     "metadata": {},
     "output_type": "execute_result"
    }
   ],
   "source": [
    "a\n"
   ]
  },
  {
   "cell_type": "code",
   "execution_count": 18,
   "id": "6530577b-7aad-4f19-a2f4-8219ff5cc66d",
   "metadata": {},
   "outputs": [
    {
     "data": {
      "text/plain": [
       "'bandana'"
      ]
     },
     "execution_count": 18,
     "metadata": {},
     "output_type": "execute_result"
    }
   ],
   "source": [
    "a='bandana'\n",
    "a"
   ]
  },
  {
   "cell_type": "code",
   "execution_count": 19,
   "id": "446c4ef0-6d94-4a40-8f75-0653bc73505f",
   "metadata": {},
   "outputs": [
    {
     "data": {
      "text/plain": [
       "'bandana'"
      ]
     },
     "execution_count": 19,
     "metadata": {},
     "output_type": "execute_result"
    }
   ],
   "source": [
    "a\n"
   ]
  },
  {
   "cell_type": "code",
   "execution_count": 20,
   "id": "e3d58af8-4a51-4aca-b953-7c96d857c0dc",
   "metadata": {},
   "outputs": [
    {
     "data": {
      "text/plain": [
       "str"
      ]
     },
     "execution_count": 20,
     "metadata": {},
     "output_type": "execute_result"
    }
   ],
   "source": [
    "type(a)"
   ]
  },
  {
   "cell_type": "markdown",
   "id": "7c4160b0-9f07-412d-8b6a-775d6179bf88",
   "metadata": {},
   "source": [
    "# calculations follows bodmas rule"
   ]
  },
  {
   "cell_type": "code",
   "execution_count": 21,
   "id": "1e02bfd6-6e84-4161-a438-47f5f4f870f9",
   "metadata": {},
   "outputs": [
    {
     "name": "stdout",
     "output_type": "stream",
     "text": [
      "300.5\n"
     ]
    }
   ],
   "source": [
    "a=10\n",
    "b=20\n",
    "\n",
    "print((a*b)+(a/b)+(a**2))"
   ]
  },
  {
   "cell_type": "markdown",
   "id": "ad38ad85-4472-4cf6-b77a-ec4f0a300fd5",
   "metadata": {},
   "source": [
    "# Printing"
   ]
  },
  {
   "cell_type": "code",
   "execution_count": 28,
   "id": "e746e2d5-abb4-4ed9-a919-ddc4335bcc6e",
   "metadata": {},
   "outputs": [
    {
     "name": "stdout",
     "output_type": "stream",
     "text": [
      " My name is bandana jain\n",
      "My name is bandana jain\n"
     ]
    }
   ],
   "source": [
    "fname=\"bandana\"\n",
    "lname=\"jain\"\n",
    "\n",
    "print(\" My name is {} {}\".format(fname,lname))\n",
    "print(\"My name is {first} {second}\". format(second=lname,first=fname))"
   ]
  },
  {
   "cell_type": "code",
   "execution_count": 29,
   "id": "bbd7461e-0073-4506-815f-735d31d56c9e",
   "metadata": {},
   "outputs": [
    {
     "data": {
      "text/plain": [
       "7"
      ]
     },
     "execution_count": 29,
     "metadata": {},
     "output_type": "execute_result"
    }
   ],
   "source": [
    "len(\"bandana\")"
   ]
  },
  {
   "cell_type": "code",
   "execution_count": 30,
   "id": "c272a058-bc8f-4be8-b52d-8376168a328c",
   "metadata": {},
   "outputs": [
    {
     "ename": "TypeError",
     "evalue": "object of type 'float' has no len()",
     "output_type": "error",
     "traceback": [
      "\u001b[1;31m---------------------------------------------------------------------------\u001b[0m",
      "\u001b[1;31mTypeError\u001b[0m                                 Traceback (most recent call last)",
      "Cell \u001b[1;32mIn[30], line 1\u001b[0m\n\u001b[1;32m----> 1\u001b[0m \u001b[38;5;28mlen\u001b[39m(\u001b[38;5;241m10.111\u001b[39m)\n",
      "\u001b[1;31mTypeError\u001b[0m: object of type 'float' has no len()"
     ]
    }
   ],
   "source": [
    "len(10.111)  # float does not have any length"
   ]
  },
  {
   "cell_type": "code",
   "execution_count": 31,
   "id": "f87a5bfe-85d9-45e1-99c2-21170a8ef74c",
   "metadata": {},
   "outputs": [
    {
     "data": {
      "text/plain": [
       "list"
      ]
     },
     "execution_count": 31,
     "metadata": {},
     "output_type": "execute_result"
    }
   ],
   "source": [
    "type([1,2])"
   ]
  },
  {
   "cell_type": "code",
   "execution_count": null,
   "id": "0385c118-212b-4e92-9499-6a91175e2066",
   "metadata": {},
   "outputs": [],
   "source": []
  }
 ],
 "metadata": {
  "kernelspec": {
   "display_name": "Python 3 (ipykernel)",
   "language": "python",
   "name": "python3"
  },
  "language_info": {
   "codemirror_mode": {
    "name": "ipython",
    "version": 3
   },
   "file_extension": ".py",
   "mimetype": "text/x-python",
   "name": "python",
   "nbconvert_exporter": "python",
   "pygments_lexer": "ipython3",
   "version": "3.12.7"
  }
 },
 "nbformat": 4,
 "nbformat_minor": 5
}
