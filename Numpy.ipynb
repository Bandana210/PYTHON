{
 "cells": [
  {
   "cell_type": "markdown",
   "id": "253fcd25-7827-4dfc-9424-dcad5262a876",
   "metadata": {},
   "source": [
    "## NUMPY "
   ]
  },
  {
   "cell_type": "markdown",
   "id": "4fc874e0-d16c-437c-9361-3f726a8c5c1c",
   "metadata": {},
   "source": [
    "* array processing package\n",
    "* provides high performance multi dimensional array object\n",
    "* and tools for woking with them\n",
    "* scientific computing\n",
    "* bindings of c++ lib -- quick operations\n",
    "* "
   ]
  },
  {
   "cell_type": "code",
   "execution_count": 1,
   "id": "2a66df48-16ca-4808-b3b3-ed6d77a9b06c",
   "metadata": {},
   "outputs": [],
   "source": [
    "import numpy as np"
   ]
  },
  {
   "cell_type": "code",
   "execution_count": 2,
   "id": "19648da6-bc60-44b0-9ee8-82cef1f448aa",
   "metadata": {},
   "outputs": [],
   "source": [
    "lst=[1,2,3,4,5]\n",
    "arr=np.array(lst)"
   ]
  },
  {
   "cell_type": "code",
   "execution_count": 3,
   "id": "24a6f829-9e6b-45ef-acc6-8f78a28b411b",
   "metadata": {},
   "outputs": [
    {
     "data": {
      "text/plain": [
       "numpy.ndarray"
      ]
     },
     "execution_count": 3,
     "metadata": {},
     "output_type": "execute_result"
    }
   ],
   "source": [
    "type(arr)"
   ]
  },
  {
   "cell_type": "code",
   "execution_count": 4,
   "id": "8cc9ae91-ec4d-49a3-9812-cc28995f2c86",
   "metadata": {},
   "outputs": [
    {
     "name": "stdout",
     "output_type": "stream",
     "text": [
      "[1 2 3 4 5]\n"
     ]
    }
   ],
   "source": [
    "print(arr)"
   ]
  },
  {
   "cell_type": "code",
   "execution_count": null,
   "id": "52a7669e-7a6a-44bc-abf5-f6b80df3cdf4",
   "metadata": {},
   "outputs": [],
   "source": [
    "arr.shape ## says no of row and function"
   ]
  },
  {
   "cell_type": "code",
   "execution_count": 6,
   "id": "dc55bbf9-c050-4fcb-97b7-2052f8b6840a",
   "metadata": {},
   "outputs": [
    {
     "data": {
      "text/plain": [
       "array([1, 2, 3, 4, 5])"
      ]
     },
     "execution_count": 6,
     "metadata": {},
     "output_type": "execute_result"
    }
   ],
   "source": [
    "arr"
   ]
  },
  {
   "cell_type": "code",
   "execution_count": 9,
   "id": "69703787-e307-449a-957e-f25e0bfb7060",
   "metadata": {},
   "outputs": [],
   "source": [
    "l1=[1,2,3,4,5]\n",
    "l2=[1,2,3,5,6,]\n",
    "l3=[2,4,6,6,7]\n",
    "a1=np.array([l1,l2,l3])\n"
   ]
  },
  {
   "cell_type": "code",
   "execution_count": 10,
   "id": "a6d9fdd0-d3df-4c3b-8f14-fe6d4aa83cc3",
   "metadata": {},
   "outputs": [
    {
     "data": {
      "text/plain": [
       "array([[1, 2, 3, 4, 5],\n",
       "       [1, 2, 3, 5, 6],\n",
       "       [2, 4, 6, 6, 7]])"
      ]
     },
     "execution_count": 10,
     "metadata": {},
     "output_type": "execute_result"
    }
   ],
   "source": [
    "a1"
   ]
  },
  {
   "cell_type": "code",
   "execution_count": 11,
   "id": "ba62b8e7-97b3-4169-a5a5-02c112fb0a3c",
   "metadata": {},
   "outputs": [
    {
     "data": {
      "text/plain": [
       "array([[1, 2, 3],\n",
       "       [4, 5, 1],\n",
       "       [2, 3, 5],\n",
       "       [6, 2, 4],\n",
       "       [6, 6, 7]])"
      ]
     },
     "execution_count": 11,
     "metadata": {},
     "output_type": "execute_result"
    }
   ],
   "source": [
    "a1.reshape(5,3)"
   ]
  },
  {
   "cell_type": "code",
   "execution_count": 12,
   "id": "b6d5df03-3a16-4f4b-861d-3890e1d548f6",
   "metadata": {},
   "outputs": [
    {
     "ename": "ValueError",
     "evalue": "cannot reshape array of size 15 into shape (2,3)",
     "output_type": "error",
     "traceback": [
      "\u001b[1;31m---------------------------------------------------------------------------\u001b[0m",
      "\u001b[1;31mValueError\u001b[0m                                Traceback (most recent call last)",
      "Cell \u001b[1;32mIn[12], line 1\u001b[0m\n\u001b[1;32m----> 1\u001b[0m a1\u001b[38;5;241m.\u001b[39mreshape(\u001b[38;5;241m2\u001b[39m,\u001b[38;5;241m3\u001b[39m)\n",
      "\u001b[1;31mValueError\u001b[0m: cannot reshape array of size 15 into shape (2,3)"
     ]
    }
   ],
   "source": [
    "a1.reshape(2,3)"
   ]
  },
  {
   "cell_type": "code",
   "execution_count": 13,
   "id": "e8f351ec-b1f5-4fc9-ab3c-6bd3e6acc403",
   "metadata": {},
   "outputs": [
    {
     "data": {
      "text/plain": [
       "(3, 5)"
      ]
     },
     "execution_count": 13,
     "metadata": {},
     "output_type": "execute_result"
    }
   ],
   "source": [
    "a1.shape"
   ]
  },
  {
   "cell_type": "code",
   "execution_count": 15,
   "id": "43339321-8938-4e32-91c8-b74941214b45",
   "metadata": {},
   "outputs": [
    {
     "data": {
      "text/plain": [
       "array([[1],\n",
       "       [2],\n",
       "       [3],\n",
       "       [4],\n",
       "       [5]])"
      ]
     },
     "execution_count": 15,
     "metadata": {},
     "output_type": "execute_result"
    }
   ],
   "source": [
    "arr.reshape(5,1)  ## giving 2d array"
   ]
  },
  {
   "cell_type": "code",
   "execution_count": 16,
   "id": "73b15769-3f3b-4232-86ec-065a7186bec8",
   "metadata": {},
   "outputs": [
    {
     "data": {
      "text/plain": [
       "array([1, 2, 3, 4, 5])"
      ]
     },
     "execution_count": 16,
     "metadata": {},
     "output_type": "execute_result"
    }
   ],
   "source": [
    "arr"
   ]
  },
  {
   "cell_type": "code",
   "execution_count": 17,
   "id": "5b6c0573-0f84-401a-93e4-4d31663fd2ce",
   "metadata": {},
   "outputs": [
    {
     "data": {
      "text/plain": [
       "array([[1, 2, 3, 4, 5, 1, 2, 3, 5, 6, 2, 4, 6, 6, 7]])"
      ]
     },
     "execution_count": 17,
     "metadata": {},
     "output_type": "execute_result"
    }
   ],
   "source": [
    "a1.reshape(1,15)"
   ]
  },
  {
   "cell_type": "markdown",
   "id": "01fff43e-b820-4c48-8821-1b4308e86a8d",
   "metadata": {},
   "source": [
    "* indexing"
   ]
  },
  {
   "cell_type": "code",
   "execution_count": 18,
   "id": "736ed12c-8dcd-4650-bbbe-86e6a83d8330",
   "metadata": {},
   "outputs": [
    {
     "data": {
      "text/plain": [
       "array([[1, 2, 3, 4, 5],\n",
       "       [1, 2, 3, 5, 6],\n",
       "       [2, 4, 6, 6, 7]])"
      ]
     },
     "execution_count": 18,
     "metadata": {},
     "output_type": "execute_result"
    }
   ],
   "source": [
    "a1"
   ]
  },
  {
   "cell_type": "code",
   "execution_count": 19,
   "id": "14c3b818-820e-4478-8ab8-866b1826f71f",
   "metadata": {},
   "outputs": [
    {
     "data": {
      "text/plain": [
       "3"
      ]
     },
     "execution_count": 19,
     "metadata": {},
     "output_type": "execute_result"
    }
   ],
   "source": [
    "a1[1,2]"
   ]
  },
  {
   "cell_type": "code",
   "execution_count": 20,
   "id": "75abc12c-407e-4101-8b9b-cba15aaebe52",
   "metadata": {},
   "outputs": [
    {
     "data": {
      "text/plain": [
       "3"
      ]
     },
     "execution_count": 20,
     "metadata": {},
     "output_type": "execute_result"
    }
   ],
   "source": [
    "arr[2]"
   ]
  },
  {
   "cell_type": "code",
   "execution_count": 21,
   "id": "7369b18f-9186-4028-a4d4-9e6ad3f8a832",
   "metadata": {},
   "outputs": [
    {
     "data": {
      "text/plain": [
       "array([1, 2, 3, 4, 5])"
      ]
     },
     "execution_count": 21,
     "metadata": {},
     "output_type": "execute_result"
    }
   ],
   "source": [
    "arr"
   ]
  },
  {
   "cell_type": "code",
   "execution_count": 22,
   "id": "f939ab4f-2d0d-4934-bdf0-6de58ec711f7",
   "metadata": {},
   "outputs": [
    {
     "data": {
      "text/plain": [
       "array([[1, 2],\n",
       "       [1, 2]])"
      ]
     },
     "execution_count": 22,
     "metadata": {},
     "output_type": "execute_result"
    }
   ],
   "source": [
    "a1[0:2, 0:2]"
   ]
  },
  {
   "cell_type": "code",
   "execution_count": 24,
   "id": "8c813310-ff6e-493b-a1fa-97baac768f06",
   "metadata": {},
   "outputs": [
    {
     "data": {
      "text/plain": [
       "array([[4, 5],\n",
       "       [5, 6],\n",
       "       [6, 7]])"
      ]
     },
     "execution_count": 24,
     "metadata": {},
     "output_type": "execute_result"
    }
   ],
   "source": [
    "a1[:,3:]"
   ]
  },
  {
   "cell_type": "code",
   "execution_count": 27,
   "id": "685abd9e-8e9a-4c55-a053-1d7d8b04afc5",
   "metadata": {},
   "outputs": [
    {
     "data": {
      "text/plain": [
       "array([[5, 6],\n",
       "       [6, 7]])"
      ]
     },
     "execution_count": 27,
     "metadata": {},
     "output_type": "execute_result"
    }
   ],
   "source": [
    "a1[1:,3:]"
   ]
  },
  {
   "cell_type": "code",
   "execution_count": 34,
   "id": "9a4f33ff-6d9a-4e8d-ba47-d60c312a1650",
   "metadata": {},
   "outputs": [],
   "source": [
    "a2=np.arange(0,10)"
   ]
  },
  {
   "cell_type": "code",
   "execution_count": 35,
   "id": "2247a897-917f-4ddf-ac05-da66dac2fceb",
   "metadata": {},
   "outputs": [
    {
     "data": {
      "text/plain": [
       "array([0, 1, 2, 3, 4, 5, 6, 7, 8, 9])"
      ]
     },
     "execution_count": 35,
     "metadata": {},
     "output_type": "execute_result"
    }
   ],
   "source": [
    "a2"
   ]
  },
  {
   "cell_type": "code",
   "execution_count": 37,
   "id": "16e81da1-a462-4d80-9433-f0926ae1c0e1",
   "metadata": {},
   "outputs": [
    {
     "data": {
      "text/plain": [
       "array([0, 1, 2, 3, 4, 5, 6, 7, 8, 9])"
      ]
     },
     "execution_count": 37,
     "metadata": {},
     "output_type": "execute_result"
    }
   ],
   "source": [
    "a1"
   ]
  },
  {
   "cell_type": "code",
   "execution_count": 38,
   "id": "3efc2515-2650-4ccc-8913-d9d1a8a01981",
   "metadata": {},
   "outputs": [],
   "source": [
    "a1=np.array([l1,l2,l3])"
   ]
  },
  {
   "cell_type": "code",
   "execution_count": 39,
   "id": "22b2c2f9-e950-4677-b166-9be05cbb74a5",
   "metadata": {},
   "outputs": [
    {
     "data": {
      "text/plain": [
       "array([[1, 2, 3, 4, 5],\n",
       "       [1, 2, 3, 5, 6],\n",
       "       [2, 4, 6, 6, 7]])"
      ]
     },
     "execution_count": 39,
     "metadata": {},
     "output_type": "execute_result"
    }
   ],
   "source": [
    "a1"
   ]
  },
  {
   "cell_type": "code",
   "execution_count": 46,
   "id": "bff08d13-778a-4b9e-ad08-bb79640dbbd4",
   "metadata": {},
   "outputs": [],
   "source": [
    "a3=np.arange(0,15,step=3)"
   ]
  },
  {
   "cell_type": "code",
   "execution_count": 45,
   "id": "264f9937-a8db-4839-8079-2e9ba22afc87",
   "metadata": {},
   "outputs": [
    {
     "data": {
      "text/plain": [
       "array([ 0,  3,  6,  9, 12])"
      ]
     },
     "execution_count": 45,
     "metadata": {},
     "output_type": "execute_result"
    }
   ],
   "source": [
    "a3"
   ]
  },
  {
   "cell_type": "code",
   "execution_count": 47,
   "id": "84ec3284-0230-4944-953d-e0a573306fba",
   "metadata": {},
   "outputs": [
    {
     "data": {
      "text/plain": [
       "array([ 1.        ,  1.16666667,  1.33333333,  1.5       ,  1.66666667,\n",
       "        1.83333333,  2.        ,  2.16666667,  2.33333333,  2.5       ,\n",
       "        2.66666667,  2.83333333,  3.        ,  3.16666667,  3.33333333,\n",
       "        3.5       ,  3.66666667,  3.83333333,  4.        ,  4.16666667,\n",
       "        4.33333333,  4.5       ,  4.66666667,  4.83333333,  5.        ,\n",
       "        5.16666667,  5.33333333,  5.5       ,  5.66666667,  5.83333333,\n",
       "        6.        ,  6.16666667,  6.33333333,  6.5       ,  6.66666667,\n",
       "        6.83333333,  7.        ,  7.16666667,  7.33333333,  7.5       ,\n",
       "        7.66666667,  7.83333333,  8.        ,  8.16666667,  8.33333333,\n",
       "        8.5       ,  8.66666667,  8.83333333,  9.        ,  9.16666667,\n",
       "        9.33333333,  9.5       ,  9.66666667,  9.83333333, 10.        ])"
      ]
     },
     "execution_count": 47,
     "metadata": {},
     "output_type": "execute_result"
    }
   ],
   "source": [
    "np.linspace(1,10,55) ## to get 55 equi spaced points between intervals"
   ]
  },
  {
   "cell_type": "code",
   "execution_count": 49,
   "id": "3039bca1-a06f-4eca-845e-b7def0257ba2",
   "metadata": {},
   "outputs": [],
   "source": [
    "a1[1,3]=99"
   ]
  },
  {
   "cell_type": "code",
   "execution_count": 50,
   "id": "ee81d937-88c9-45be-aaba-01f19043e5f2",
   "metadata": {},
   "outputs": [
    {
     "data": {
      "text/plain": [
       "array([[ 1,  2,  3,  4,  5],\n",
       "       [ 1,  2,  3, 99,  6],\n",
       "       [ 2,  4,  6,  6,  7]])"
      ]
     },
     "execution_count": 50,
     "metadata": {},
     "output_type": "execute_result"
    }
   ],
   "source": [
    "a1"
   ]
  },
  {
   "cell_type": "markdown",
   "id": "920601c7-4c02-4cb9-95ca-8ae3860b7fb6",
   "metadata": {},
   "source": [
    "* copy and broadcasting"
   ]
  },
  {
   "cell_type": "code",
   "execution_count": 51,
   "id": "0fe10e15-8068-41ff-b61d-fa79c4c67ce0",
   "metadata": {},
   "outputs": [],
   "source": [
    "a2[3:]=100"
   ]
  },
  {
   "cell_type": "code",
   "execution_count": 52,
   "id": "c5a23c9f-ca92-4be1-9e77-8a36fc92dd26",
   "metadata": {},
   "outputs": [
    {
     "data": {
      "text/plain": [
       "array([  0,   1,   2, 100, 100, 100, 100, 100, 100, 100])"
      ]
     },
     "execution_count": 52,
     "metadata": {},
     "output_type": "execute_result"
    }
   ],
   "source": [
    "a2"
   ]
  },
  {
   "cell_type": "markdown",
   "id": "730e6bb8-86e3-4308-bb91-11aec37dff46",
   "metadata": {},
   "source": [
    "* refernce type -- multiple variable name store same data -- mutables -- list , set , dict\n",
    "* value type -- each variable name has its own copy of data -- immutables -- tuple, string , int , char\n",
    "* hence in value type changing in 1 variable does not affect the other , \n",
    "* but in reference type change in  1 results in change in all variable name object-- bcz inka object toh 1 hi h na \n"
   ]
  },
  {
   "cell_type": "code",
   "execution_count": 53,
   "id": "446a1a7b-1d66-48f1-975e-247320dedcb8",
   "metadata": {},
   "outputs": [],
   "source": [
    "arr1=a2.copy()"
   ]
  },
  {
   "cell_type": "code",
   "execution_count": 54,
   "id": "6a433bda-309a-4f39-a9db-b5e452e76b8d",
   "metadata": {},
   "outputs": [],
   "source": [
    "a2[3:]=500"
   ]
  },
  {
   "cell_type": "code",
   "execution_count": 55,
   "id": "e198b6ad-ec65-4acd-97a9-cb6665f7f748",
   "metadata": {},
   "outputs": [
    {
     "data": {
      "text/plain": [
       "array([  0,   1,   2, 500, 500, 500, 500, 500, 500, 500])"
      ]
     },
     "execution_count": 55,
     "metadata": {},
     "output_type": "execute_result"
    }
   ],
   "source": [
    "a2"
   ]
  },
  {
   "cell_type": "code",
   "execution_count": 56,
   "id": "143516d4-7635-4dae-a674-a1c89d983741",
   "metadata": {},
   "outputs": [
    {
     "data": {
      "text/plain": [
       "array([  0,   1,   2, 100, 100, 100, 100, 100, 100, 100])"
      ]
     },
     "execution_count": 56,
     "metadata": {},
     "output_type": "execute_result"
    }
   ],
   "source": [
    "arr1"
   ]
  },
  {
   "cell_type": "markdown",
   "id": "121d8968-9787-4b60-9071-6ac981e13f2b",
   "metadata": {},
   "source": [
    "## some conditions useful in EDA"
   ]
  },
  {
   "cell_type": "code",
   "execution_count": 57,
   "id": "b8ad4a75-1084-45b4-a35e-0cdec2fd9162",
   "metadata": {},
   "outputs": [
    {
     "data": {
      "text/plain": [
       "array([[ True, False, False, False, False],\n",
       "       [ True, False, False, False, False],\n",
       "       [False, False, False, False, False]])"
      ]
     },
     "execution_count": 57,
     "metadata": {},
     "output_type": "execute_result"
    }
   ],
   "source": [
    "val=2\n",
    "a1<2   ## only ele less than 2 are true"
   ]
  },
  {
   "cell_type": "code",
   "execution_count": 59,
   "id": "d54bd834-75d9-45f8-a34b-739299c06e9f",
   "metadata": {},
   "outputs": [],
   "source": [
    "a4=np.arange(0,40,2).reshape(4,5)"
   ]
  },
  {
   "cell_type": "code",
   "execution_count": 60,
   "id": "da8aa99a-b139-47e8-8efe-dbab55368457",
   "metadata": {},
   "outputs": [
    {
     "data": {
      "text/plain": [
       "array([[ 0,  2,  4,  6,  8],\n",
       "       [10, 12, 14, 16, 18],\n",
       "       [20, 22, 24, 26, 28],\n",
       "       [30, 32, 34, 36, 38]])"
      ]
     },
     "execution_count": 60,
     "metadata": {},
     "output_type": "execute_result"
    }
   ],
   "source": [
    "a4\n"
   ]
  },
  {
   "cell_type": "code",
   "execution_count": 61,
   "id": "4d239396-7555-4936-b31d-7e70f266c8fd",
   "metadata": {},
   "outputs": [],
   "source": [
    "a5=np.linspace(40,60,20).reshape(4,5)"
   ]
  },
  {
   "cell_type": "code",
   "execution_count": 62,
   "id": "c1977df3-1ede-48da-bf15-f883c797f342",
   "metadata": {},
   "outputs": [
    {
     "data": {
      "text/plain": [
       "array([[40.        , 41.05263158, 42.10526316, 43.15789474, 44.21052632],\n",
       "       [45.26315789, 46.31578947, 47.36842105, 48.42105263, 49.47368421],\n",
       "       [50.52631579, 51.57894737, 52.63157895, 53.68421053, 54.73684211],\n",
       "       [55.78947368, 56.84210526, 57.89473684, 58.94736842, 60.        ]])"
      ]
     },
     "execution_count": 62,
     "metadata": {},
     "output_type": "execute_result"
    }
   ],
   "source": [
    "a5"
   ]
  },
  {
   "cell_type": "code",
   "execution_count": 63,
   "id": "750a39b0-f88f-415f-93fc-95dc51c0727b",
   "metadata": {},
   "outputs": [
    {
     "data": {
      "text/plain": [
       "array([[   0.        ,   82.10526316,  168.42105263,  258.94736842,\n",
       "         353.68421053],\n",
       "       [ 452.63157895,  555.78947368,  663.15789474,  774.73684211,\n",
       "         890.52631579],\n",
       "       [1010.52631579, 1134.73684211, 1263.15789474, 1395.78947368,\n",
       "        1532.63157895],\n",
       "       [1673.68421053, 1818.94736842, 1968.42105263, 2122.10526316,\n",
       "        2280.        ]])"
      ]
     },
     "execution_count": 63,
     "metadata": {},
     "output_type": "execute_result"
    }
   ],
   "source": [
    "a4*a5"
   ]
  },
  {
   "cell_type": "code",
   "execution_count": 64,
   "id": "be38cbe8-db59-47c8-89e5-4756b6a293e2",
   "metadata": {},
   "outputs": [
    {
     "data": {
      "text/plain": [
       "array([[-40.        , -39.05263158, -38.10526316, -37.15789474,\n",
       "        -36.21052632],\n",
       "       [-35.26315789, -34.31578947, -33.36842105, -32.42105263,\n",
       "        -31.47368421],\n",
       "       [-30.52631579, -29.57894737, -28.63157895, -27.68421053,\n",
       "        -26.73684211],\n",
       "       [-25.78947368, -24.84210526, -23.89473684, -22.94736842,\n",
       "        -22.        ]])"
      ]
     },
     "execution_count": 64,
     "metadata": {},
     "output_type": "execute_result"
    }
   ],
   "source": [
    "a4-a5"
   ]
  },
  {
   "cell_type": "code",
   "execution_count": 65,
   "id": "986be533-f8f1-477d-a4b0-5c1e2ac4212a",
   "metadata": {},
   "outputs": [],
   "source": [
    "a6=np.ones(4)"
   ]
  },
  {
   "cell_type": "code",
   "execution_count": 66,
   "id": "e265d5bc-0abc-4572-8c63-d958200f5fc5",
   "metadata": {},
   "outputs": [
    {
     "data": {
      "text/plain": [
       "array([1., 1., 1., 1.])"
      ]
     },
     "execution_count": 66,
     "metadata": {},
     "output_type": "execute_result"
    }
   ],
   "source": [
    "a6"
   ]
  },
  {
   "cell_type": "code",
   "execution_count": 68,
   "id": "73279ead-27a0-46f2-afe8-b140598627ad",
   "metadata": {},
   "outputs": [],
   "source": [
    "a7=np.ones((2,5),dtype=int)"
   ]
  },
  {
   "cell_type": "code",
   "execution_count": 69,
   "id": "6e9b7999-e4ff-4df0-8e8b-0748e29c99a2",
   "metadata": {},
   "outputs": [
    {
     "data": {
      "text/plain": [
       "array([[1, 1, 1, 1, 1],\n",
       "       [1, 1, 1, 1, 1]])"
      ]
     },
     "execution_count": 69,
     "metadata": {},
     "output_type": "execute_result"
    }
   ],
   "source": [
    "a7"
   ]
  },
  {
   "cell_type": "code",
   "execution_count": 70,
   "id": "12d8a899-eb3a-410a-a79f-ad0a29fc0dac",
   "metadata": {},
   "outputs": [],
   "source": [
    "a8=np.random.rand(3,6)"
   ]
  },
  {
   "cell_type": "code",
   "execution_count": 71,
   "id": "b822ae16-77a9-44ec-ab57-419619bced30",
   "metadata": {},
   "outputs": [
    {
     "data": {
      "text/plain": [
       "array([[0.60083421, 0.85089187, 0.92824035, 0.04703226, 0.8480573 ,\n",
       "        0.71713876],\n",
       "       [0.46283236, 0.8951079 , 0.25008635, 0.84091716, 0.34614044,\n",
       "        0.34091625],\n",
       "       [0.86360296, 0.72730252, 0.66232177, 0.42068434, 0.25271254,\n",
       "        0.47056263]])"
      ]
     },
     "execution_count": 71,
     "metadata": {},
     "output_type": "execute_result"
    }
   ],
   "source": [
    "a8"
   ]
  },
  {
   "cell_type": "code",
   "execution_count": 72,
   "id": "f0c892c9-04a4-4b06-ac85-3d7f12b4c71b",
   "metadata": {},
   "outputs": [],
   "source": [
    "a9=np.random.randn(4,4)  ## random values based on standard normal distribution"
   ]
  },
  {
   "cell_type": "code",
   "execution_count": 73,
   "id": "61f253bc-becc-44fc-b81f-07faa10fbc1f",
   "metadata": {},
   "outputs": [
    {
     "data": {
      "text/plain": [
       "array([[ 0.26083085,  0.0962473 ,  0.21633852,  0.82054799],\n",
       "       [-0.27529431,  1.22426637, -0.28425447, -0.57306466],\n",
       "       [-0.41641815, -1.11829027,  2.64889682,  0.26602785],\n",
       "       [-1.86972835, -1.54104748, -0.08549323, -1.58415999]])"
      ]
     },
     "execution_count": 73,
     "metadata": {},
     "output_type": "execute_result"
    }
   ],
   "source": [
    "a9"
   ]
  },
  {
   "cell_type": "code",
   "execution_count": null,
   "id": "c0ce1113-142b-4a3e-8a36-6e94a0b3c719",
   "metadata": {},
   "outputs": [],
   "source": []
  }
 ],
 "metadata": {
  "kernelspec": {
   "display_name": "Python 3 (ipykernel)",
   "language": "python",
   "name": "python3"
  },
  "language_info": {
   "codemirror_mode": {
    "name": "ipython",
    "version": 3
   },
   "file_extension": ".py",
   "mimetype": "text/x-python",
   "name": "python",
   "nbconvert_exporter": "python",
   "pygments_lexer": "ipython3",
   "version": "3.12.7"
  }
 },
 "nbformat": 4,
 "nbformat_minor": 5
}
