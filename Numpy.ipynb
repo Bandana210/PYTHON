{
 "cells": [
  {
   "cell_type": "markdown",
   "id": "253fcd25-7827-4dfc-9424-dcad5262a876",
   "metadata": {},
   "source": [
    "## NUMPY "
   ]
  },
  {
   "cell_type": "markdown",
   "id": "4fc874e0-d16c-437c-9361-3f726a8c5c1c",
   "metadata": {},
   "source": [
    "* array processing package\n",
    "* provides high performance multi dimensional array object\n",
    "* and tools for woking with them\n",
    "* scientific computing\n",
    "* bindings of c++ lib -- quick operations\n",
    "* "
   ]
  },
  {
   "cell_type": "code",
   "execution_count": null,
   "id": "2a66df48-16ca-4808-b3b3-ed6d77a9b06c",
   "metadata": {},
   "outputs": [],
   "source": []
  }
 ],
 "metadata": {
  "kernelspec": {
   "display_name": "Python 3 (ipykernel)",
   "language": "python",
   "name": "python3"
  },
  "language_info": {
   "codemirror_mode": {
    "name": "ipython",
    "version": 3
   },
   "file_extension": ".py",
   "mimetype": "text/x-python",
   "name": "python",
   "nbconvert_exporter": "python",
   "pygments_lexer": "ipython3",
   "version": "3.12.7"
  }
 },
 "nbformat": 4,
 "nbformat_minor": 5
}
